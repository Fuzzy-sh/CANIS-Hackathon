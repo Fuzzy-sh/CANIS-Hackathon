{
 "cells": [
  {
   "cell_type": "code",
   "execution_count": 7,
   "id": "9bfa02db",
   "metadata": {},
   "outputs": [
    {
     "name": "stderr",
     "output_type": "stream",
     "text": [
      "/Users/fuzzysha/software/miniconda3/envs/hproj/lib/python3.8/site-packages/spacy/util.py:275: UserWarning: [W031] Model 'en_core_web_sm' (2.2.0) requires spaCy v2.2 and is incompatible with the current spaCy version (2.3.7). This may lead to unexpected results or runtime errors. To resolve this, download a newer compatible model or retrain your custom model with the current spaCy version. For more details and available updates, run: python -m spacy validate\n",
      "  warnings.warn(warn_msg)\n",
      "/var/folders/8k/v_790m6j3ksgsl4j86kmxvsw0000gn/T/ipykernel_84386/526516702.py:30: FutureWarning: Passing a negative integer is deprecated in version 1.0 and will not be supported in future version. Instead, use None to not limit the column width.\n",
      "  pd.options.display.max_colwidth = -1\n"
     ]
    }
   ],
   "source": [
    "#Import necessary libraries\n",
    "import pandas as pd\n",
    "import numpy as np\n",
    "import os\n",
    "import math\n",
    "import time\n",
    "import calendar\n",
    "import string\n",
    "import regex\n",
    "import re\n",
    "import operator\n",
    "from datetime import datetime, date\n",
    "from collections import Counter\n",
    "from wordcloud import WordCloud\n",
    "import matplotlib.pyplot as plt\n",
    "import seaborn as sns\n",
    "import nltk\n",
    "import en_core_web_sm\n",
    "from nltk.corpus import stopwords\n",
    "from pysummarization.nlpbase.auto_abstractor import AutoAbstractor\n",
    "from pysummarization.tokenizabledoc.simple_tokenizer import SimpleTokenizer\n",
    "from pysummarization.abstractabledoc.top_n_rank_abstractor import TopNRankAbstractor\n",
    "\n",
    "#Load English language model\n",
    "nlp = en_core_web_sm.load()\n",
    "\n",
    "#Set pandas display options\n",
    "pd.options.display.max_columns = 2000\n",
    "pd.options.display.max_rows = 2000\n",
    "pd.options.display.max_colwidth = -1\n",
    "pd.options.display.max_seq_items = 2000\n",
    "\n",
    "#Set Seaborn theme\n",
    "sns.set_theme(style=\"whitegrid\")"
   ]
  },
  {
   "cell_type": "code",
   "execution_count": 8,
   "id": "b71496e5",
   "metadata": {},
   "outputs": [],
   "source": [
    "#read databases\n",
    "df_news_true=pd.read_csv('data/DataSet_Misinfo_TRUE.csv',index_col=False)\n",
    "df_news_fake=pd.read_csv('data/DataSet_Misinfo_FAKE.csv')\n",
    "df_news_rpsub=pd.read_csv('data/EXTRA_RussianPropagandaSubset.csv')"
   ]
  },
  {
   "cell_type": "code",
   "execution_count": 9,
   "id": "844717d1",
   "metadata": {},
   "outputs": [
    {
     "name": "stdout",
     "output_type": "stream",
     "text": [
      "Number of rows: 34946\n",
      "Number of words: 18998671\n"
     ]
    }
   ],
   "source": [
    "\n",
    "# Print the number of rows\n",
    "print(\"Number of rows:\", len(df_news_true[df_news_true['text'].isna()==False]['text']))\n",
    "\n",
    "# Combine all sentences in the 'text' column and split by period to create a list of sentences\n",
    "list_of_sent = [('').join(x) for x in df_news_true[df_news_true['text'].isna()==False]['text']]\n",
    "all_of_sent = [('. ').join(list_of_sent)]\n",
    "joined_sent = str(all_of_sent[0])\n",
    "\n",
    "# Print the number of words in the combined 'text' column\n",
    "print(\"Number of words:\", len(joined_sent.split(' ')))"
   ]
  },
  {
   "cell_type": "code",
   "execution_count": 10,
   "id": "b47a5bb4",
   "metadata": {},
   "outputs": [
    {
     "name": "stdout",
     "output_type": "stream",
     "text": [
      " When they return from the holidays on Wednesday, lawmakers will begin trying to pass a federal budget in a fight likely to be linked to other issues, such as immigration policy, even as the November congressional election campaigns approach in which Republicans will seek to keep control of Congress.\n",
      " (33.0%)\n",
      " Congress, who voted this month for a huge expansion of the national debt to pay for tax cuts, called himself a “fiscal conservative” on Sunday and urged budget restraint in 2018.\n",
      " (26.0%)\n",
      " Representative Mark Meadows, speaking on CBS’ “Face the Nation,” drew a hard line on federal spending, which lawmakers are bracing to do battle over in January.\n",
      " (23.0%)\n",
      " President Donald Trump and members of his administration on Sunday goaded Republican senators to stick with trying to pass a healthcare bill, after the lawmakers failed spectacularly last week to muster the votes to end Obamacare.\n",
      " (10.0%)\n",
      " In keeping with a sharp pivot under way among Republicans, U.\n",
      " (10.0%)\n",
      " Pick just about any lawmaker who voted for the war in 2002, and they are likely to be making arguments of a similar tenor now.\n",
      " (10.0%)\n",
      " Raw feelings and mistrust could pose an obstacle to President Donald Trump and hard-line conservative lawmakers in his Republican Party as they seek to rebound from defeat on healthcare legislation by launching into an overhaul of the U.\n",
      " (10.0%)\n",
      " President Donald Trump and Republican leaders in Congress want to pass a tax bill by the end of 2017.\n",
      " (9.0%)\n",
      " President Donald Trump’s first budget outline, calling for a security-heavy realignment of federal spending, drew resistance on Thursday from his fellow Republicans in the U.\n",
      " (9.0%)\n",
      " In a week when President Donald Trump and his fellow Republicans in Congress are hoping to celebrate the passage of tax overhaul legislation, many in the party showed little appetite for a government shutdown at week’s end.\n",
      " (9.0%)\n"
     ]
    }
   ],
   "source": [
    "# Instantiate an instance of AutoAbstractor() class.\n",
    "auto_abstractor = AutoAbstractor()\n",
    "\n",
    "# Instantiate an instance of SimpleTokenizer() class and assign it to the `tokenizable_doc` attribute.\n",
    "auto_abstractor.tokenizable_doc = SimpleTokenizer()\n",
    "\n",
    "# Define the delimiter list to split the document into sentences\n",
    "auto_abstractor.delimiter_list = [\".\", \"\\n\"]\n",
    "\n",
    "# Instantiate an instance of TopNRankAbstractor() class and assign it to `abstractable_doc`.\n",
    "abstractable_doc = TopNRankAbstractor()\n",
    "\n",
    "# Summarize the joined sentences using the summarization techniques.\n",
    "# The `summarize()` method takes two arguments: the document to be summarized and the summarization algorithm to be used.\n",
    "# The `auto_abstractor` object is used to tokenize the input text and the `abstractable_doc` object is used to perform the summarization.\n",
    "summary = auto_abstractor.summarize(joined_sent, abstractable_doc)\n",
    "\n",
    "# Extract each sentence along with its score from the summary data\n",
    "score_data=[x[1] for x in summary['scoring_data']]\n",
    "ziped_sen_val=zip(summary['summarize_result'], score_data)\n",
    "sorted_ziped_sen_val=sorted(ziped_sen_val, key = operator.itemgetter(1),reverse=True)\n",
    "\n",
    "# Print each sentence and its score in descending order\n",
    "for i, scoure in sorted_ziped_sen_val:\n",
    "    print(i, \"(\"+str(round(scoure,0))+\"%)\")"
   ]
  },
  {
   "cell_type": "code",
   "execution_count": null,
   "id": "3f1a2c09",
   "metadata": {},
   "outputs": [],
   "source": []
  }
 ],
 "metadata": {
  "kernelspec": {
   "display_name": "Python 3 (ipykernel)",
   "language": "python",
   "name": "python3"
  },
  "language_info": {
   "codemirror_mode": {
    "name": "ipython",
    "version": 3
   },
   "file_extension": ".py",
   "mimetype": "text/x-python",
   "name": "python",
   "nbconvert_exporter": "python",
   "pygments_lexer": "ipython3",
   "version": "3.8.8"
  }
 },
 "nbformat": 4,
 "nbformat_minor": 5
}
