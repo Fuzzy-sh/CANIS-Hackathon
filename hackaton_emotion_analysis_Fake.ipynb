{
 "cells": [
  {
   "cell_type": "code",
   "execution_count": 2,
   "id": "10716ed6",
   "metadata": {},
   "outputs": [
    {
     "name": "stdout",
     "output_type": "stream",
     "text": [
      "showing info https://raw.githubusercontent.com/nltk/nltk_data/gh-pages/index.xml\n"
     ]
    },
    {
     "name": "stderr",
     "output_type": "stream",
     "text": [
      "[nltk_data] Downloading package punkt to /Users/fuzzysha/nltk_data...\n",
      "[nltk_data]   Package punkt is already up-to-date!\n"
     ]
    }
   ],
   "source": [
    "import pandas as pd\n",
    "import numpy as np\n",
    "import os\n",
    "from datetime import datetime \n",
    "import matplotlib.pyplot as plt\n",
    "import seaborn as sns\n",
    "import math\n",
    "\n",
    "import time\n",
    "\n",
    "from datetime import date # Removed duplicate import of datetime\n",
    "import calendar\n",
    "\n",
    "import nltk\n",
    "nltk.download() # Commented out, as it may prompt a download dialog\n",
    "\n",
    "import string\n",
    "import regex # Removed duplicate import of re\n",
    "import re\n",
    "\n",
    "from nltk.corpus import stopwords\n",
    "from pprint import pprint\n",
    "\n",
    "import spacy\n",
    "\n",
    "import contractions\n",
    "\n",
    "# Text to emotion \n",
    "import nltk\n",
    "nltk.download('punkt') # Moved download to correct location\n",
    "\n",
    "import pandas as pd\n",
    "from nltk import word_tokenize\n",
    "from nltk.stem.snowball import SnowballStemmer\n",
    "import requests\n",
    "\n",
    "from LeXmo import LeXmo\n",
    "\n",
    "import tqdm\n",
    "from tqdm import tqdm_notebook,tqdm\n",
    "\n",
    "from pysummarization.nlpbase.auto_abstractor import AutoAbstractor\n",
    "from pysummarization.tokenizabledoc.simple_tokenizer import SimpleTokenizer\n",
    "from pysummarization.abstractabledoc.top_n_rank_abstractor import TopNRankAbstractor\n",
    "\n",
    "import operator\n",
    "\n",
    "# Increase display options for Pandas dataframes\n",
    "pd.options.display.max_columns = 2000\n",
    "pd.options.display.max_rows = 2000\n",
    "pd.options.display.max_colwidth = 10000\n",
    "pd.options.display.max_seq_items = 2000\n"
   ]
  },
  {
   "cell_type": "code",
   "execution_count": 3,
   "id": "8408a665",
   "metadata": {},
   "outputs": [],
   "source": [
    "# Read databases\n",
    "df_news_true=pd.read_csv('data/DataSet_Misinfo_TRUE.csv',index_col=False)\n",
    "df_news_fake=pd.read_csv('data/DataSet_Misinfo_FAKE.csv')\n",
    "df_news_rpsub=pd.read_csv('data/EXTRA_RussianPropagandaSubset.csv')"
   ]
  },
  {
   "cell_type": "code",
   "execution_count": 4,
   "id": "4ded2b57",
   "metadata": {},
   "outputs": [],
   "source": [
    "df_news_fake=df_news_fake.iloc[:800,:]"
   ]
  },
  {
   "cell_type": "code",
   "execution_count": 5,
   "id": "3020ce8e",
   "metadata": {},
   "outputs": [
    {
     "name": "stderr",
     "output_type": "stream",
     "text": [
      "100%|██████████| 800/800 [00:00<00:00, 3576.20it/s]\n"
     ]
    },
    {
     "name": "stdout",
     "output_type": "stream",
     "text": [
      "we have 12689 sentences in the Text\n",
      "we have 12481 unique sentences in the Text\n",
      "The first sentence is:\n",
      "It s been a rough day in the Donald Trump White House.\n"
     ]
    }
   ],
   "source": [
    "# Separate each paragraph into sentences using nltk.sent_tokenize\n",
    "df_sentences=pd.DataFrame(columns=['sent'])\n",
    "list_token=[]\n",
    "for para in tqdm(df_news_fake.text):\n",
    "    if pd.isna(para)==False:\n",
    "        tokens = nltk.sent_tokenize(para)\n",
    "        list_token=list_token+tokens\n",
    "\n",
    "# print the number of sentences        \n",
    "print(\"we have {} sentences in the Text\".format(len(list_token)))\n",
    "\n",
    "# Print the number of unique sentences       \n",
    "print(\"we have {} unique sentences in the Text\".format(len(set(list_token))))\n",
    "\n",
    "#convert the list of sentences into dataframe \n",
    "df_sentence =pd.DataFrame([set(list_token)]).T\n",
    "\n",
    "# Rename the column \n",
    "df_sentence.columns=['sent']\n",
    "\n",
    "# Print the first sentence\n",
    "print ( \"The first sentence is:\")\n",
    "print(df_sentence.loc[1,'sent'] )"
   ]
  },
  {
   "cell_type": "code",
   "execution_count": 6,
   "id": "2dedf5cc",
   "metadata": {},
   "outputs": [
    {
     "data": {
      "text/html": [
       "<div>\n",
       "<style scoped>\n",
       "    .dataframe tbody tr th:only-of-type {\n",
       "        vertical-align: middle;\n",
       "    }\n",
       "\n",
       "    .dataframe tbody tr th {\n",
       "        vertical-align: top;\n",
       "    }\n",
       "\n",
       "    .dataframe thead th {\n",
       "        text-align: right;\n",
       "    }\n",
       "</style>\n",
       "<table border=\"1\" class=\"dataframe\">\n",
       "  <thead>\n",
       "    <tr style=\"text-align: right;\">\n",
       "      <th></th>\n",
       "      <th>sent</th>\n",
       "    </tr>\n",
       "  </thead>\n",
       "  <tbody>\n",
       "    <tr>\n",
       "      <th>0</th>\n",
       "      <td>Jones said: We are so into the crazy now, when something significant happens, we don t notice.</td>\n",
       "    </tr>\n",
       "    <tr>\n",
       "      <th>1</th>\n",
       "      <td>It s been a rough day in the Donald Trump White House.</td>\n",
       "    </tr>\n",
       "    <tr>\n",
       "      <th>2</th>\n",
       "      <td>US News and World Report put this out today: The mere consideration of Trump changing the status quo sparked a renewed U.S. security warning on Tuesday.</td>\n",
       "    </tr>\n",
       "    <tr>\n",
       "      <th>3</th>\n",
       "      <td>Will they give them a warning?</td>\n",
       "    </tr>\n",
       "    <tr>\n",
       "      <th>4</th>\n",
       "      <td>That s not the way to do it.</td>\n",
       "    </tr>\n",
       "    <tr>\n",
       "      <th>...</th>\n",
       "      <td>...</td>\n",
       "    </tr>\n",
       "    <tr>\n",
       "      <th>12476</th>\n",
       "      <td>They have all manner of reasons for why abortion should be illegal; from the misogynistic, religious and moral reasons all the way over to the misogynistic and outright bizarre ones.</td>\n",
       "    </tr>\n",
       "    <tr>\n",
       "      <th>12477</th>\n",
       "      <td>Even Ted Cruz, though, who is one of the most extreme in Washington (and one of the most loathed) has withdrawn his support of Moore.One Republican, though, is holding on and he s shocked (I tell you) that anyone would ever call him an extremist over it.Rob Maness, who has the endorsement of Sarah Palin, Rand Paul, Rick Perry and Ben Carson, is running for the Louisiana State House.</td>\n",
       "    </tr>\n",
       "    <tr>\n",
       "      <th>12478</th>\n",
       "      <td>That never happened.</td>\n",
       "    </tr>\n",
       "    <tr>\n",
       "      <th>12479</th>\n",
       "      <td>His first thing to do after the Civil War was to bring the Union back together, so we could become a more unified country.</td>\n",
       "    </tr>\n",
       "    <tr>\n",
       "      <th>12480</th>\n",
       "      <td>We are also praying for the people of Puerto Rico,  Trump said while using an exaggerated Spanish accent.</td>\n",
       "    </tr>\n",
       "  </tbody>\n",
       "</table>\n",
       "<p>12481 rows × 1 columns</p>\n",
       "</div>"
      ],
      "text/plain": [
       "                                                                                                                                                                                                                                                                                                                                                                                                    sent\n",
       "0                                                                                                                                                                                                                                                                                                         Jones said: We are so into the crazy now, when something significant happens, we don t notice.\n",
       "1                                                                                                                                                                                                                                                                                                                                                 It s been a rough day in the Donald Trump White House.\n",
       "2                                                                                                                                                                                                                                               US News and World Report put this out today: The mere consideration of Trump changing the status quo sparked a renewed U.S. security warning on Tuesday.\n",
       "3                                                                                                                                                                                                                                                                                                                                                                         Will they give them a warning?\n",
       "4                                                                                                                                                                                                                                                                                                                                                                           That s not the way to do it.\n",
       "...                                                                                                                                                                                                                                                                                                                                                                                                  ...\n",
       "12476                                                                                                                                                                                                             They have all manner of reasons for why abortion should be illegal; from the misogynistic, religious and moral reasons all the way over to the misogynistic and outright bizarre ones.\n",
       "12477  Even Ted Cruz, though, who is one of the most extreme in Washington (and one of the most loathed) has withdrawn his support of Moore.One Republican, though, is holding on and he s shocked (I tell you) that anyone would ever call him an extremist over it.Rob Maness, who has the endorsement of Sarah Palin, Rand Paul, Rick Perry and Ben Carson, is running for the Louisiana State House.\n",
       "12478                                                                                                                                                                                                                                                                                                                                                                               That never happened.\n",
       "12479                                                                                                                                                                                                                                                                         His first thing to do after the Civil War was to bring the Union back together, so we could become a more unified country.\n",
       "12480                                                                                                                                                                                                                                                                                          We are also praying for the people of Puerto Rico,  Trump said while using an exaggerated Spanish accent.\n",
       "\n",
       "[12481 rows x 1 columns]"
      ]
     },
     "execution_count": 6,
     "metadata": {},
     "output_type": "execute_result"
    }
   ],
   "source": [
    "df_sentence"
   ]
  },
  {
   "cell_type": "code",
   "execution_count": 7,
   "id": "0d03720a",
   "metadata": {
    "scrolled": true
   },
   "outputs": [],
   "source": [
    "# Add columns for each emotion to the df_sentence DataFrame\n",
    "df_sentence['anger']=0\n",
    "df_sentence['anticipation']=0\n",
    "df_sentence['disgust']=0\n",
    "df_sentence['fear']=0\n",
    "df_sentence['joy']=0\n",
    "df_sentence['negative']=0\n",
    "df_sentence['positive']=0\n",
    "df_sentence['sadness']=0\n",
    "df_sentence['surprise']=0\n",
    "df_sentence['trust']=0\n",
    "\n",
    "# Fix contractions like \"I'm\" to \"I am\"\n",
    "df_sentence['sent_cont_fixed']=''\n",
    "for i,row in df_sentence.iterrows():\n",
    "    # Use a try-except block to handle errors for non-English sentences\n",
    "    try:\n",
    "        df_sentence.loc[i,'sent_cont_fixed']=contractions.fix(row.sent)\n",
    "    \n",
    "    # If an error is caught, print the index and row for reference\n",
    "    except:\n",
    "        exit()\n",
    "    \n",
    "# keep a copy of df_sentence\n",
    "df_sentence_new=df_sentence.copy()"
   ]
  },
  {
   "cell_type": "code",
   "execution_count": null,
   "id": "f20a579b",
   "metadata": {
    "scrolled": true
   },
   "outputs": [],
   "source": [
    "# for each sentence, calculate the the related emotions and fill the values \n",
    "for i,row in tqdm_notebook(df_sentence_new.iterrows()):\n",
    "    emo=(LeXmo.LeXmo(row.sent_cont_fixed))\n",
    "    emo.pop('text', None)\n",
    "    for key,value in emo.items():\n",
    "        df_sentence_new.loc[i,key]=round(value,3)  \n"
   ]
  },
  {
   "cell_type": "code",
   "execution_count": 17,
   "id": "9af46d39",
   "metadata": {},
   "outputs": [],
   "source": [
    "df_sentence_new_=df_sentence_new.iloc[:1000,:]"
   ]
  },
  {
   "cell_type": "code",
   "execution_count": 18,
   "id": "00579753",
   "metadata": {},
   "outputs": [],
   "source": [
    "#save the database with the emotion for each sentence\n",
    "df_sentence_new.to_hdf('data/df_news_fake_emotions.h5', key='df_news_fake_emotions')"
   ]
  },
  {
   "cell_type": "code",
   "execution_count": 19,
   "id": "a62850c3",
   "metadata": {},
   "outputs": [
    {
     "data": {
      "text/html": [
       "<div>\n",
       "<style scoped>\n",
       "    .dataframe tbody tr th:only-of-type {\n",
       "        vertical-align: middle;\n",
       "    }\n",
       "\n",
       "    .dataframe tbody tr th {\n",
       "        vertical-align: top;\n",
       "    }\n",
       "\n",
       "    .dataframe thead th {\n",
       "        text-align: right;\n",
       "    }\n",
       "</style>\n",
       "<table border=\"1\" class=\"dataframe\">\n",
       "  <thead>\n",
       "    <tr style=\"text-align: right;\">\n",
       "      <th></th>\n",
       "      <th>emotion</th>\n",
       "      <th>emotion_freq</th>\n",
       "    </tr>\n",
       "  </thead>\n",
       "  <tbody>\n",
       "    <tr>\n",
       "      <th>6</th>\n",
       "      <td>positive</td>\n",
       "      <td>589</td>\n",
       "    </tr>\n",
       "    <tr>\n",
       "      <th>5</th>\n",
       "      <td>negative</td>\n",
       "      <td>509</td>\n",
       "    </tr>\n",
       "    <tr>\n",
       "      <th>9</th>\n",
       "      <td>trust</td>\n",
       "      <td>509</td>\n",
       "    </tr>\n",
       "    <tr>\n",
       "      <th>8</th>\n",
       "      <td>surprise</td>\n",
       "      <td>451</td>\n",
       "    </tr>\n",
       "    <tr>\n",
       "      <th>1</th>\n",
       "      <td>anticipation</td>\n",
       "      <td>434</td>\n",
       "    </tr>\n",
       "    <tr>\n",
       "      <th>3</th>\n",
       "      <td>fear</td>\n",
       "      <td>355</td>\n",
       "    </tr>\n",
       "    <tr>\n",
       "      <th>0</th>\n",
       "      <td>anger</td>\n",
       "      <td>340</td>\n",
       "    </tr>\n",
       "    <tr>\n",
       "      <th>7</th>\n",
       "      <td>sadness</td>\n",
       "      <td>294</td>\n",
       "    </tr>\n",
       "    <tr>\n",
       "      <th>4</th>\n",
       "      <td>joy</td>\n",
       "      <td>289</td>\n",
       "    </tr>\n",
       "    <tr>\n",
       "      <th>2</th>\n",
       "      <td>disgust</td>\n",
       "      <td>210</td>\n",
       "    </tr>\n",
       "  </tbody>\n",
       "</table>\n",
       "</div>"
      ],
      "text/plain": [
       "        emotion  emotion_freq\n",
       "6      positive           589\n",
       "5      negative           509\n",
       "9         trust           509\n",
       "8      surprise           451\n",
       "1  anticipation           434\n",
       "3          fear           355\n",
       "0         anger           340\n",
       "7       sadness           294\n",
       "4           joy           289\n",
       "2       disgust           210"
      ]
     },
     "execution_count": 19,
     "metadata": {},
     "output_type": "execute_result"
    }
   ],
   "source": [
    "df_freq_by_emotion={}\n",
    "\n",
    "df_freq_by_emotion['anger']=len(df_sentence_new_[df_sentence_new_['anger']>0])\n",
    "df_freq_by_emotion['anticipation']=len(df_sentence_new_[df_sentence_new_['anticipation']>0])\n",
    "df_freq_by_emotion['disgust']=len(df_sentence_new_[df_sentence_new_['disgust']>0])\n",
    "df_freq_by_emotion['fear']=len(df_sentence_new_[df_sentence_new_['fear']>0])\n",
    "df_freq_by_emotion['joy']=len(df_sentence_new_[df_sentence_new_['joy']>0])\n",
    "df_freq_by_emotion['negative']=len(df_sentence_new_[df_sentence_new_['negative']>0])\n",
    "df_freq_by_emotion['positive']=len(df_sentence_new_[df_sentence_new_['positive']>0])\n",
    "df_freq_by_emotion['sadness']=len(df_sentence_new_[df_sentence_new_['sadness']>0])\n",
    "df_freq_by_emotion['surprise']=len(df_sentence_new_[df_sentence_new_['surprise']>0])\n",
    "df_freq_by_emotion['trust']=len(df_sentence_new_[df_sentence_new_['trust']>0])\n",
    "\n",
    "\n",
    "df_freq_by_emotion=pd.DataFrame.from_dict(df_freq_by_emotion,orient='index').reset_index()\n",
    "\n",
    "df_freq_by_emotion.columns=['emotion','emotion_freq']\n",
    "\n",
    "df_freq_by_emotion.sort_values('emotion_freq', ascending=False)"
   ]
  },
  {
   "cell_type": "code",
   "execution_count": 21,
   "id": "1c855029",
   "metadata": {},
   "outputs": [
    {
     "name": "stderr",
     "output_type": "stream",
     "text": [
      "No artists with labels found to put in legend.  Note that artists whose label start with an underscore are ignored when legend() is called with no argument.\n"
     ]
    },
    {
     "data": {
      "text/plain": [
       "[(0.0, 910.0),\n",
       " Text(4.444444444444445, 0.5, ''),\n",
       " Text(0.5, 25.078125, 'Faculties | Continuing students')]"
      ]
     },
     "execution_count": 21,
     "metadata": {},
     "output_type": "execute_result"
    },
    {
     "data": {
      "image/png": "[encoded data removed]",
      "text/plain": [
       "<Figure size 640x480 with 1 Axes>"
      ]
     },
     "metadata": {},
     "output_type": "display_data"
    }
   ],
   "source": [
    "sns.set_theme(style=\"whitegrid\")\n",
    "pal=sns.color_palette(\"rocket_r\", as_cmap=True)\n",
    "sns.barplot(data=df_freq_by_emotion, \n",
    "            y=df_freq_by_emotion.emotion,\n",
    "            x=df_freq_by_emotion.emotion_freq,\n",
    "            order=df_freq_by_emotion.sort_values('emotion_freq', ascending=False).emotion,\n",
    "            color='C1'\n",
    "           \n",
    "           \n",
    "           )\n",
    "# # Initialize the matplotlib figure\n",
    "\n",
    "ax.legend(ncol=1, loc=\"lower right\", frameon=True, title='March prefered')\n",
    "ax.set(xlim=(0, 910), ylabel=\"\", xlabel=\"Faculties | Continuing students\")\n"
   ]
  },
  {
   "cell_type": "code",
   "execution_count": null,
   "id": "1f12fc88",
   "metadata": {},
   "outputs": [],
   "source": [
    "print ('l')"
   ]
  },
  {
   "cell_type": "code",
   "execution_count": null,
   "id": "44b670b7",
   "metadata": {},
   "outputs": [],
   "source": []
  },
  {
   "cell_type": "code",
   "execution_count": null,
   "id": "8c11977f",
   "metadata": {},
   "outputs": [],
   "source": []
  }
 ],
 "metadata": {
  "kernelspec": {
   "display_name": "Python 3 (ipykernel)",
   "language": "python",
   "name": "python3"
  },
  "language_info": {
   "codemirror_mode": {
    "name": "ipython",
    "version": 3
   },
   "file_extension": ".py",
   "mimetype": "text/x-python",
   "name": "python",
   "nbconvert_exporter": "python",
   "pygments_lexer": "ipython3",
   "version": "3.8.8"
  }
 },
 "nbformat": 4,
 "nbformat_minor": 5
}
