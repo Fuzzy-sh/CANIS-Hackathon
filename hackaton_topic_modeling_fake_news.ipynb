{
 "cells": [
  {
   "cell_type": "code",
   "execution_count": 1,
   "id": "8996b58e",
   "metadata": {},
   "outputs": [
    {
     "name": "stderr",
     "output_type": "stream",
     "text": [
      "/Users/fuzzysha/software/miniconda3/envs/hproj/lib/python3.8/site-packages/spacy/util.py:275: UserWarning: [W031] Model 'en_core_web_sm' (2.2.0) requires spaCy v2.2 and is incompatible with the current spaCy version (2.3.7). This may lead to unexpected results or runtime errors. To resolve this, download a newer compatible model or retrain your custom model with the current spaCy version. For more details and available updates, run: python -m spacy validate\n",
      "  warnings.warn(warn_msg)\n",
      "/Users/fuzzysha/software/miniconda3/envs/hproj/lib/python3.8/site-packages/past/builtins/misc.py:45: DeprecationWarning: the imp module is deprecated in favour of importlib; see the module's documentation for alternative uses\n",
      "  from imp import reload\n",
      "/Users/fuzzysha/software/miniconda3/envs/hproj/lib/python3.8/site-packages/seaborn/rcmod.py:82: DeprecationWarning: distutils Version classes are deprecated. Use packaging.version instead.\n",
      "  if LooseVersion(mpl.__version__) >= \"3.0\":\n",
      "/Users/fuzzysha/software/miniconda3/envs/hproj/lib/python3.8/site-packages/setuptools/_distutils/version.py:346: DeprecationWarning: distutils Version classes are deprecated. Use packaging.version instead.\n",
      "  other = LooseVersion(other)\n",
      "/Users/fuzzysha/software/miniconda3/envs/hproj/lib/python3.8/site-packages/seaborn/rcmod.py:400: DeprecationWarning: distutils Version classes are deprecated. Use packaging.version instead.\n",
      "  if LooseVersion(mpl.__version__) >= \"3.0\":\n",
      "/Users/fuzzysha/software/miniconda3/envs/hproj/lib/python3.8/site-packages/setuptools/_distutils/version.py:346: DeprecationWarning: distutils Version classes are deprecated. Use packaging.version instead.\n",
      "  other = LooseVersion(other)\n",
      "/Users/fuzzysha/software/miniconda3/envs/hproj/lib/python3.8/site-packages/spacy/util.py:275: UserWarning: [W031] Model 'en_core_web_sm' (2.2.0) requires spaCy v2.2 and is incompatible with the current spaCy version (2.3.7). This may lead to unexpected results or runtime errors. To resolve this, download a newer compatible model or retrain your custom model with the current spaCy version. For more details and available updates, run: python -m spacy validate\n",
      "  warnings.warn(warn_msg)\n"
     ]
    }
   ],
   "source": [
    "# Source: #https://www.machinelearningplus.com/nlp/topic-modeling-gensim-python/#1introduction\n",
    "import calendar\n",
    "import en_core_web_sm\n",
    "import gensim\n",
    "import gensim.corpora as corpora\n",
    "from gensim.models import CoherenceModel, TfidfModel\n",
    "from gensim.utils import simple_preprocess\n",
    "import glob\n",
    "import json\n",
    "import matplotlib.pyplot as plt\n",
    "import nltk\n",
    "from nltk.corpus import stopwords\n",
    "import numpy as np\n",
    "import os\n",
    "import pyLDAvis\n",
    "import pyLDAvis.gensim\n",
    "import pandas as pd\n",
    "import regex\n",
    "import seaborn as sns\n",
    "import spacy\n",
    "from collections import Counter\n",
    "from datetime import date, datetime\n",
    "import math\n",
    "from nltk.corpus import stopwords\n",
    "from tqdm import tqdm, tqdm_notebook\n",
    "import warnings\n",
    "from wordcloud import WordCloud\n",
    "\n",
    "sns.set_theme(style=\"whitegrid\")\n",
    "nlp = en_core_web_sm.load()\n",
    "warnings.filterwarnings(\"ignore\", category=DeprecationWarning)"
   ]
  },
  {
   "cell_type": "code",
   "execution_count": 2,
   "id": "1bac1e55",
   "metadata": {},
   "outputs": [],
   "source": [
    "# set display options for pandas dataframes\n",
    "\n",
    "pd.options.display.max_columns=2000\n",
    "pd.options.display.max_rows=2000\n",
    "pd.options.display.max_colwidth=10000\n",
    "pd.options.display.max_seq_items=2000\n",
    "\n",
    "# read in three CSV files into pandas dataframes\n",
    "df_news_true=pd.read_csv('data/DataSet_Misinfo_TRUE.csv',index_col=False)\n",
    "df_news_fake=pd.read_csv('data/DataSet_Misinfo_FAKE.csv')\n",
    "df_news_rpsub=pd.read_csv('data/EXTRA_RussianPropagandaSubset.csv')"
   ]
  },
  {
   "cell_type": "code",
   "execution_count": 3,
   "id": "3b8a31ed",
   "metadata": {},
   "outputs": [
    {
     "data": {
      "text/plain": [
       "'Donald Trump just couldn t wish all Americans a Happy New Year and leave it at that. Instead, he had to give a shout out to his enemies, haters and  the very dishonest fake news media.  The former reality show star had just one job to do and he couldn t do it. As our Country rapidly grows stronger and smarter, I want to wish all of my friends, supporters, enemies, haters, and even the very dishonest Fake News Media, a Happy and Healthy New Year,  President Angry Pants tweeted.  2018 will be a great year for America! As our Country rapidly grows stronger and smarter, I want to wish all of my friends, supporters, enemies, haters, and even the very dishonest Fake News Media, a Happy and Healthy New Year. 2018 will be a great year for America!  Donald J. Trump (@realDonaldTrump) December 31, 2017Trump s tweet went down about as welll as you d expect.What kind of president sends a New Year s greeting like this despicable, petty, infantile gibberish? Only Trump! His lack of decency won t even allow him to rise above the gutter long enough to wish the American citizens a happy new year!  Bishop Talbert Swan (@TalbertSwan) December 31, 2017no one likes you  Calvin (@calvinstowell) December 31, 2017Your impeachment would make 2018 a great year for America, but I ll also accept regaining control of Congress.  Miranda Yaver (@mirandayaver) December 31, 2017Do you hear yourself talk? When you have to include that many people that hate you you have to wonder? Why do the they all hate me?  Alan Sandoval (@AlanSandoval13) December 31, 2017Who uses the word Haters in a New Years wish??  Marlene (@marlene399) December 31, 2017You can t just say happy new year?  Koren pollitt (@Korencarpenter) December 31, 2017Here s Trump s New Year s Eve tweet from 2016.Happy New Year to all, including to my many enemies and those who have fought me and lost so badly they just don t know what to do. Love!  Donald J. Trump (@realDonaldTrump) December 31, 2016This is nothing new for Trump. He s been doing this for years.Trump has directed messages to his  enemies  and  haters  for New Year s, Easter, Thanksgiving, and the anniversary of 9/11. pic.twitter.com/4FPAe2KypA  Daniel Dale (@ddale8) December 31, 2017Trump s holiday tweets are clearly not presidential.How long did he work at Hallmark before becoming President?  Steven Goodine (@SGoodine) December 31, 2017He s always been like this . . . the only difference is that in the last few years, his filter has been breaking down.  Roy Schulze (@thbthttt) December 31, 2017Who, apart from a teenager uses the term haters?  Wendy (@WendyWhistles) December 31, 2017he s a fucking 5 year old  Who Knows (@rainyday80) December 31, 2017So, to all the people who voted for this a hole thinking he would change once he got into power, you were wrong! 70-year-old men don t change and now he s a year older.Photo by Andrew Burton/Getty Images.'"
      ]
     },
     "execution_count": 3,
     "metadata": {},
     "output_type": "execute_result"
    }
   ],
   "source": [
    "df_news_fake['text'][0]"
   ]
  },
  {
   "cell_type": "code",
   "execution_count": 4,
   "id": "a0dc3381",
   "metadata": {},
   "outputs": [
    {
     "name": "stderr",
     "output_type": "stream",
     "text": [
      "/Users/fuzzysha/software/miniconda3/envs/hproj/lib/python3.8/site-packages/spacy/util.py:275: UserWarning: [W031] Model 'en_core_web_sm' (2.2.0) requires spaCy v2.2 and is incompatible with the current spaCy version (2.3.7). This may lead to unexpected results or runtime errors. To resolve this, download a newer compatible model or retrain your custom model with the current spaCy version. For more details and available updates, run: python -m spacy validate\n",
      "  warnings.warn(warn_msg)\n"
     ]
    },
    {
     "data": {
      "application/vnd.jupyter.widget-view+json": {
       "model_id": "22f516b878bf4422b28411efb8e8ed28",
       "version_major": 2,
       "version_minor": 0
      },
      "text/plain": [
       "  0%|          | 0/43642 [00:00<?, ?it/s]"
      ]
     },
     "metadata": {},
     "output_type": "display_data"
    },
    {
     "name": "stdout",
     "output_type": "stream",
     "text": [
      "['just couldn t wish leave instead give shout enemy hater very dishonest fake news medium former reality show star just job couldn t rapidly grow strong smart want wish friend supporter enemy hater even very dishonest happy tweet great year rapidly grow strong smart want wish friend supporter enemy hater even very dishonest happy great year tweet go about as welll d expect kind president send greeting despicable petty infantile gibberish only lack decency win t even allow rise gutter long enough wish american citizen happy new year one like impeachment make great year also accept regain control 2017do hear talk When include many people hate wonder Why hate use word hater year wish @marlene399 just say happy new year pollitt s tweet include many enemy fight lose so badly just don know love new s do year direct message enemy hater anniversary holiday tweet clearly presidential How long work become s always only difference last few year filter break apart teenager use term hater s fucking year old know people vote hole thinking change get power wrong old man t change now s year old photo', 'go bad day s assumption many dossier prompt investigation so s lash order protect happen dossier start investigation accord document obtain former campaign adviser drunk wine bar when reveal knowledge russian opposition research top t just covfefe boy administration allege much large role none so damning drunken fool wine bar coffee boy help arrange meeting month election know former aide set meeting world leader team run merely coffee boy reveal australian diplomat russian official shop possible dirt then democratic presidential nominee exactly how much say night australian unclear report state month later when leak democratic email begin appear online australian official pass information american counterpart accord current former american foreign official direct knowledge role plead guilty lie now cooperating witness team isn presidency s badly script reality tv show photo']\n",
      "[['just', 'couldn', 'wish', 'leave', 'instead', 'give', 'shout', 'enemy', 'hater', 'very', 'dishonest', 'fake', 'news', 'medium', 'former', 'reality', 'show', 'star', 'just', 'job', 'couldn', 'rapidly', 'grow', 'strong', 'smart', 'want', 'wish', 'friend', 'supporter', 'enemy', 'hater', 'even', 'very', 'dishonest', 'happy', 'tweet', 'great', 'year', 'rapidly', 'grow', 'strong', 'smart', 'want', 'wish', 'friend', 'supporter', 'enemy', 'hater', 'even', 'very', 'dishonest', 'happy', 'great', 'year', 'tweet', 'go', 'about', 'as', 'welll', 'expect', 'kind', 'president', 'send', 'greeting', 'despicable', 'petty', 'infantile', 'gibberish', 'only', 'lack', 'decency', 'win', 'even', 'allow', 'rise', 'gutter', 'long', 'enough', 'wish', 'american', 'citizen', 'happy', 'new', 'year', 'one', 'like', 'impeachment', 'make', 'great', 'year', 'also', 'accept', 'regain', 'control', 'do', 'hear', 'talk', 'when', 'include', 'many', 'people', 'hate', 'wonder', 'why', 'hate', 'use', 'word', 'hater', 'year', 'wish', 'marlene', 'just', 'say', 'happy', 'new', 'year', 'pollitt', 'tweet', 'include', 'many', 'enemy', 'fight', 'lose', 'so', 'badly', 'just', 'don', 'know', 'love', 'new', 'do', 'year', 'direct', 'message', 'enemy', 'hater', 'anniversary', 'holiday', 'tweet', 'clearly', 'presidential', 'how', 'long', 'work', 'become', 'always', 'only', 'difference', 'last', 'few', 'year', 'filter', 'break', 'apart', 'teenager', 'use', 'term', 'hater', 'fucking', 'year', 'old', 'know', 'people', 'vote', 'hole', 'thinking', 'change', 'get', 'power', 'wrong', 'old', 'man', 'change', 'now', 'year', 'old', 'photo'], ['go', 'bad', 'day', 'assumption', 'many', 'dossier', 'prompt', 'investigation', 'so', 'lash', 'order', 'protect', 'happen', 'dossier', 'start', 'investigation', 'accord', 'document', 'obtain', 'former', 'campaign', 'adviser', 'drunk', 'wine', 'bar', 'when', 'reveal', 'knowledge', 'russian', 'opposition', 'research', 'top', 'just', 'covfefe', 'boy', 'administration', 'allege', 'much', 'large', 'role', 'none', 'so', 'damning', 'drunken', 'fool', 'wine', 'bar', 'coffee', 'boy', 'help', 'arrange', 'meeting', 'month', 'election', 'know', 'former', 'aide', 'set', 'meeting', 'world', 'leader', 'team', 'run', 'merely', 'coffee', 'boy', 'reveal', 'australian', 'diplomat', 'russian', 'official', 'shop', 'possible', 'dirt', 'then', 'democratic', 'presidential', 'nominee', 'exactly', 'how', 'much', 'say', 'night', 'australian', 'unclear', 'report', 'state', 'month', 'later', 'when', 'leak', 'democratic', 'email', 'begin', 'appear', 'online', 'australian', 'official', 'pass', 'information', 'american', 'counterpart', 'accord', 'current', 'former', 'american', 'foreign', 'official', 'direct', 'knowledge', 'role', 'plead', 'guilty', 'lie', 'now', 'cooperating', 'witness', 'team', 'isn', 'presidency', 'badly', 'script', 'reality', 'tv', 'show', 'photo']]\n"
     ]
    }
   ],
   "source": [
    "# Function to load data from a JSON file\n",
    "def load_data(file):\n",
    "    with open(file, \"r\", encoding=\"utf-8\") as f:\n",
    "        data = json.load(f) \n",
    "    return data\n",
    "\n",
    "\n",
    "# Function to write data to a JSON file\n",
    "def write_data(file, data):\n",
    "    with open(file, \"w\", encoding=\"utf-8\") as f:\n",
    "        json.dump(data, f, indent=4)\n",
    "\n",
    "\n",
    "# Function for lemmatizing text\n",
    "def lemmatization(texts, allowed_postags=[\"NOUN\", \"ADJ\", \"VERB\", \"ADV\"]):\n",
    "    nlp = spacy.load(\"en_core_web_sm\", disable=[\"parser\", \"ner\"])\n",
    "    texts_out = []\n",
    "    for text in tqdm_notebook(texts):\n",
    "        doc = nlp(text)\n",
    "        new_text = []\n",
    "        for token in doc:\n",
    "            if token.pos_ in allowed_postags:\n",
    "                new_text.append(token.lemma_)\n",
    "        final = \" \".join(new_text)\n",
    "        texts_out.append(final)\n",
    "    return texts_out\n",
    "\n",
    "\n",
    "# Lemmatize the text in a dataframe\n",
    "lemmatized_texts = lemmatization(df_news_fake[df_news_fake['text'].isna()==False]['text'])\n",
    "print(lemmatized_texts[0:2])\n",
    "\n",
    "# Function for generating words from text\n",
    "def gen_words(texts):\n",
    "    final = []\n",
    "    for text in texts:\n",
    "        new = gensim.utils.simple_preprocess(text, deacc=True)\n",
    "        final.append(new)\n",
    "    return final\n",
    "\n",
    "\n",
    "# Generate words from the lemmatized text\n",
    "data_words = gen_words(lemmatized_texts)\n",
    "\n",
    "print(data_words[0:2])"
   ]
  },
  {
   "cell_type": "code",
   "execution_count": 5,
   "id": "4f82a6c0",
   "metadata": {},
   "outputs": [
    {
     "name": "stdout",
     "output_type": "stream",
     "text": [
      "[['just', 'couldn', 'wish', 'leave', 'instead', 'give', 'shout', 'enemy', 'hater', 'very', 'dishonest', 'fake', 'news', 'medium', 'former', 'reality', 'show', 'star', 'just', 'job', 'couldn', 'rapidly', 'grow', 'strong', 'smart', 'want', 'wish', 'friend', 'supporter', 'enemy', 'hater', 'even', 'very', 'dishonest', 'happy', 'tweet', 'great', 'year', 'rapidly', 'grow', 'strong', 'smart', 'want', 'wish', 'friend', 'supporter', 'enemy', 'hater', 'even', 'very', 'dishonest', 'happy', 'great', 'year', 'tweet', 'go', 'about', 'as', 'welll', 'expect', 'kind', 'president', 'send', 'greeting', 'despicable', 'petty', 'infantile', 'gibberish', 'only', 'lack', 'decency', 'win', 'even', 'allow', 'rise', 'gutter', 'long', 'enough', 'wish', 'american', 'citizen', 'happy', 'new', 'year', 'one', 'like', 'impeachment', 'make', 'great', 'year', 'also', 'accept', 'regain', 'control', 'do', 'hear', 'talk', 'when', 'include', 'many', 'people', 'hate', 'wonder', 'why', 'hate', 'use', 'word', 'hater', 'year', 'wish', 'marlene', 'just', 'say', 'happy', 'new', 'year', 'pollitt', 'tweet', 'include', 'many', 'enemy', 'fight', 'lose', 'so', 'badly', 'just', 'don', 'know', 'love', 'new', 'do', 'year', 'direct', 'message', 'enemy', 'hater', 'anniversary', 'holiday', 'tweet', 'clearly', 'presidential', 'how', 'long', 'work', 'become', 'always', 'only', 'difference', 'last', 'few', 'year', 'filter', 'break', 'apart', 'teenager', 'use', 'term', 'hater', 'fucking', 'year', 'old', 'know', 'people', 'vote', 'hole', 'thinking', 'change', 'get', 'power', 'wrong', 'old', 'man', 'change', 'now', 'year', 'old', 'photo'], ['go', 'bad', 'day', 'assumption', 'many', 'dossier', 'prompt', 'investigation', 'so', 'lash', 'order', 'protect', 'happen', 'dossier', 'start', 'investigation', 'accord', 'document', 'obtain', 'former', 'campaign', 'adviser', 'drunk', 'wine', 'bar', 'when', 'reveal', 'knowledge', 'russian', 'opposition', 'research', 'top', 'just', 'covfefe', 'boy', 'administration', 'allege', 'much', 'large', 'role', 'none', 'so', 'damning', 'drunken', 'fool', 'wine', 'bar', 'coffee', 'boy', 'help', 'arrange', 'meeting', 'month', 'election', 'know', 'former', 'aide', 'set', 'meeting', 'world', 'leader', 'team', 'run', 'merely', 'coffee', 'boy', 'reveal', 'australian', 'diplomat', 'russian', 'official', 'shop', 'possible', 'dirt', 'then', 'democratic', 'presidential', 'nominee', 'exactly', 'how', 'much', 'say', 'night', 'australian', 'unclear', 'report', 'state', 'month', 'later', 'when', 'leak', 'democratic', 'email', 'begin', 'appear', 'online', 'australian', 'official', 'pass', 'information', 'american', 'counterpart', 'accord', 'current', 'former', 'american', 'foreign', 'official', 'direct', 'knowledge', 'role', 'plead_guilty', 'lie', 'now', 'cooperating', 'witness', 'team', 'isn', 'presidency', 'badly', 'script', 'reality', 'tv', 'show', 'photo']]\n"
     ]
    }
   ],
   "source": [
    "# Creating bigram and trigram phrases\n",
    "bigram_phrases = gensim.models.Phrases(data_words, min_count=5, threshold=100)\n",
    "trigram_phrases = gensim.models.Phrases(bigram_phrases[data_words], threshold=100)\n",
    "\n",
    "# Creating bigram and trigram models\n",
    "bigram = gensim.models.phrases.Phraser(bigram_phrases)\n",
    "trigram = gensim.models.phrases.Phraser(trigram_phrases)\n",
    "\n",
    "# Function to make bigrams\n",
    "def make_bigrams(texts):\n",
    "    return [bigram[doc] for doc in texts]\n",
    "\n",
    "# Function to make trigrams\n",
    "def make_trigrams(texts):\n",
    "    return [trigram[bigram[doc]] for doc in texts]\n",
    "\n",
    "# Creating bigrams for the preprocessed text data\n",
    "data_bigrams = make_bigrams(data_words)\n",
    "\n",
    "# Creating trigrams for the preprocessed text data\n",
    "data_bigrams_trigrams = make_trigrams(data_bigrams)\n",
    "\n",
    "print(data_bigrams_trigrams[:2])\n"
   ]
  },
  {
   "cell_type": "code",
   "execution_count": 6,
   "id": "38e86e4d",
   "metadata": {},
   "outputs": [
    {
     "name": "stderr",
     "output_type": "stream",
     "text": [
      "100%|██████████| 43642/43642 [00:52<00:00, 824.31it/s] \n"
     ]
    },
    {
     "name": "stdout",
     "output_type": "stream",
     "text": [
      "[(0, 0.23572388), (1, 0.066168495), (2, 0.0893781), (3, 0.021639204), (4, 0.25399992), (5, 0.18243818), (6, 0.022080697), (7, 0.049392525), (8, 0.03740779), (9, 0.041771173)]\n",
      "[(4, 0.25399992), (0, 0.23572388), (5, 0.18243818), (2, 0.0893781), (1, 0.066168495), (7, 0.049392525), (9, 0.041771173), (8, 0.03740779), (6, 0.022080697), (3, 0.021639204)]\n",
      "[(0, 0.23572032), (1, 0.06616854), (2, 0.08937754), (3, 0.021639211), (4, 0.2540009), (5, 0.18243863), (6, 0.022081727), (7, 0.04939416), (8, 0.037407793), (9, 0.041771173)]\n",
      "[(4, 0.2540009), (0, 0.23572032), (5, 0.18243863), (2, 0.08937754), (1, 0.06616854), (7, 0.04939416), (9, 0.041771173), (8, 0.037407793), (6, 0.022081727), (3, 0.021639211)]\n"
     ]
    }
   ],
   "source": [
    "# Create the id2word dictionary\n",
    "id2word = corpora.Dictionary(data_bigrams_trigrams)\n",
    "\n",
    "# Create corpus\n",
    "texts = data_bigrams_trigrams\n",
    "corpus = [id2word.doc2bow(text) for text in texts]\n",
    "\n",
    "# Apply tf-idf\n",
    "tfidf = TfidfModel(corpus, id2word=id2word)\n",
    "\n",
    "# Remove low tf-idf value words and those missing from tf-idf model\n",
    "low_value = 0.03\n",
    "words = []\n",
    "words_missing_in_tfidf = []\n",
    "for i in tqdm(range(len(corpus))):\n",
    "    bow = corpus[i]\n",
    "    tfidf_ids = [id for id, value in tfidf[bow]]\n",
    "    bow_ids = [id for id, value in bow]\n",
    "    low_value_words = [id for id, value in tfidf[bow] if value < low_value]\n",
    "    drops = low_value_words + words_missing_in_tfidf\n",
    "    for item in drops:\n",
    "        words.append(id2word[item])\n",
    "    words_missing_in_tfidf = [id for id in bow_ids if id not in tfidf_ids]\n",
    "    new_bow = [b for b in bow if b[0] not in low_value_words and b[0] not in words_missing_in_tfidf]\n",
    "    corpus[i] = new_bow\n",
    "\n",
    "# Train LDA model\n",
    "lda_model = gensim.models.ldamodel.LdaModel(corpus=corpus[:-1],\n",
    "                                           id2word=id2word,\n",
    "                                           num_topics=10,\n",
    "                                           random_state=100,\n",
    "                                           update_every=1,\n",
    "                                           chunksize=100,\n",
    "                                           passes=10,\n",
    "                                           alpha=\"auto\")\n",
    "\n",
    "# Get the topic distribution for a test document\n",
    "test_doc = corpus[-1]\n",
    "vector = lda_model[test_doc]\n",
    "print(vector)\n",
    "\n",
    "# Sort the topic distribution in descending order\n",
    "def sort_topic_distribution(sub_li):\n",
    "    sub_li.sort(key=lambda x: x[1])\n",
    "    sub_li.reverse()\n",
    "    return sub_li\n",
    "\n",
    "new_vector = sort_topic_distribution(vector)\n",
    "print(new_vector)\n",
    "\n",
    "# Save and load the LDA model\n",
    "lda_model.save(\"test_model_fake.model\")\n",
    "new_model = gensim.models.ldamodel.LdaModel.load(\"test_model_fake.model\")\n",
    "\n",
    "# Get the topic distribution for the same test document using the loaded model\n",
    "test_doc = corpus[-1]\n",
    "vector = new_model[test_doc]\n",
    "print(vector)\n",
    "\n",
    "# Sort the topic distribution in descending order\n",
    "new_vector = sort_topic_distribution(vector)\n",
    "print(new_vector)"
   ]
  },
  {
   "cell_type": "code",
   "execution_count": 7,
   "id": "134410ca",
   "metadata": {},
   "outputs": [
    {
     "name": "stderr",
     "output_type": "stream",
     "text": [
      "/Users/fuzzysha/software/miniconda3/envs/hproj/lib/python3.8/site-packages/pyLDAvis/_prepare.py:247: FutureWarning: In a future version of pandas all arguments of DataFrame.drop except for the argument 'labels' will be keyword-only.\n",
      "  default_term_info = default_term_info.sort_values(\n",
      "/Users/fuzzysha/software/miniconda3/envs/hproj/lib/python3.8/site-packages/sklearn/manifold/_mds.py:299: FutureWarning: The default value of `normalized_stress` will change to `'auto'` in version 1.4. To suppress this warning, manually set the value of `normalized_stress`.\n",
      "  warnings.warn(\n"
     ]
    }
   ],
   "source": [
    "#enables the display of the visualization in a Jupyter notebook.\n",
    "pyLDAvis.enable_notebook()\n",
    "\n",
    "#prepares the data for visualization by generating the topic-term distribution, term frequency, and topic frequency distributions using the lda_model, corpus, and id2word.\n",
    "vis = pyLDAvis.gensim.prepare(lda_model, corpus, id2word, mds=\"mmds\", R=15)\n"
   ]
  },
  {
   "cell_type": "code",
   "execution_count": 8,
   "id": "cd47abce",
   "metadata": {},
   "outputs": [
    {
     "name": "stderr",
     "output_type": "stream",
     "text": [
      "/Users/fuzzysha/software/miniconda3/envs/hproj/lib/python3.8/site-packages/past/builtins/misc.py:45: DeprecationWarning: the imp module is deprecated in favour of importlib; see the module's documentation for alternative uses\n",
      "  from imp import reload\n",
      "/Users/fuzzysha/software/miniconda3/envs/hproj/lib/python3.8/site-packages/joblib/backports.py:36: DeprecationWarning: distutils Version classes are deprecated. Use packaging.version instead.\n",
      "  if LooseVersion(np.__version__) < '1.13':\n",
      "/Users/fuzzysha/software/miniconda3/envs/hproj/lib/python3.8/site-packages/setuptools/_distutils/version.py:346: DeprecationWarning: distutils Version classes are deprecated. Use packaging.version instead.\n",
      "  other = LooseVersion(other)\n",
      "/Users/fuzzysha/software/miniconda3/envs/hproj/lib/python3.8/site-packages/joblib/backports.py:36: DeprecationWarning: distutils Version classes are deprecated. Use packaging.version instead.\n",
      "  if LooseVersion(np.__version__) < '1.13':\n",
      "/Users/fuzzysha/software/miniconda3/envs/hproj/lib/python3.8/site-packages/setuptools/_distutils/version.py:346: DeprecationWarning: distutils Version classes are deprecated. Use packaging.version instead.\n",
      "  other = LooseVersion(other)\n",
      "/Users/fuzzysha/software/miniconda3/envs/hproj/lib/python3.8/site-packages/past/builtins/misc.py:45: DeprecationWarning: the imp module is deprecated in favour of importlib; see the module's documentation for alternative uses\n",
      "  from imp import reload\n",
      "/Users/fuzzysha/software/miniconda3/envs/hproj/lib/python3.8/site-packages/joblib/backports.py:36: DeprecationWarning: distutils Version classes are deprecated. Use packaging.version instead.\n",
      "  if LooseVersion(np.__version__) < '1.13':\n",
      "/Users/fuzzysha/software/miniconda3/envs/hproj/lib/python3.8/site-packages/setuptools/_distutils/version.py:346: DeprecationWarning: distutils Version classes are deprecated. Use packaging.version instead.\n",
      "  other = LooseVersion(other)\n",
      "/Users/fuzzysha/software/miniconda3/envs/hproj/lib/python3.8/site-packages/joblib/backports.py:36: DeprecationWarning: distutils Version classes are deprecated. Use packaging.version instead.\n",
      "  if LooseVersion(np.__version__) < '1.13':\n",
      "/Users/fuzzysha/software/miniconda3/envs/hproj/lib/python3.8/site-packages/setuptools/_distutils/version.py:346: DeprecationWarning: distutils Version classes are deprecated. Use packaging.version instead.\n",
      "  other = LooseVersion(other)\n",
      "/Users/fuzzysha/software/miniconda3/envs/hproj/lib/python3.8/site-packages/joblib/backports.py:36: DeprecationWarning: distutils Version classes are deprecated. Use packaging.version instead.\n",
      "  if LooseVersion(np.__version__) < '1.13':\n",
      "/Users/fuzzysha/software/miniconda3/envs/hproj/lib/python3.8/site-packages/setuptools/_distutils/version.py:346: DeprecationWarning: distutils Version classes are deprecated. Use packaging.version instead.\n",
      "  other = LooseVersion(other)\n",
      "/Users/fuzzysha/software/miniconda3/envs/hproj/lib/python3.8/site-packages/joblib/backports.py:36: DeprecationWarning: distutils Version classes are deprecated. Use packaging.version instead.\n",
      "  if LooseVersion(np.__version__) < '1.13':\n",
      "/Users/fuzzysha/software/miniconda3/envs/hproj/lib/python3.8/site-packages/setuptools/_distutils/version.py:346: DeprecationWarning: distutils Version classes are deprecated. Use packaging.version instead.\n",
      "  other = LooseVersion(other)\n",
      "/Users/fuzzysha/software/miniconda3/envs/hproj/lib/python3.8/site-packages/past/builtins/misc.py:45: DeprecationWarning: the imp module is deprecated in favour of importlib; see the module's documentation for alternative uses\n",
      "  from imp import reload\n",
      "/Users/fuzzysha/software/miniconda3/envs/hproj/lib/python3.8/site-packages/joblib/backports.py:36: DeprecationWarning: distutils Version classes are deprecated. Use packaging.version instead.\n",
      "  if LooseVersion(np.__version__) < '1.13':\n",
      "/Users/fuzzysha/software/miniconda3/envs/hproj/lib/python3.8/site-packages/setuptools/_distutils/version.py:346: DeprecationWarning: distutils Version classes are deprecated. Use packaging.version instead.\n",
      "  other = LooseVersion(other)\n",
      "/Users/fuzzysha/software/miniconda3/envs/hproj/lib/python3.8/site-packages/joblib/backports.py:36: DeprecationWarning: distutils Version classes are deprecated. Use packaging.version instead.\n",
      "  if LooseVersion(np.__version__) < '1.13':\n",
      "/Users/fuzzysha/software/miniconda3/envs/hproj/lib/python3.8/site-packages/setuptools/_distutils/version.py:346: DeprecationWarning: distutils Version classes are deprecated. Use packaging.version instead.\n",
      "  other = LooseVersion(other)\n",
      "/Users/fuzzysha/software/miniconda3/envs/hproj/lib/python3.8/site-packages/past/builtins/misc.py:45: DeprecationWarning: the imp module is deprecated in favour of importlib; see the module's documentation for alternative uses\n",
      "  from imp import reload\n",
      "/Users/fuzzysha/software/miniconda3/envs/hproj/lib/python3.8/site-packages/joblib/backports.py:36: DeprecationWarning: distutils Version classes are deprecated. Use packaging.version instead.\n",
      "  if LooseVersion(np.__version__) < '1.13':\n",
      "/Users/fuzzysha/software/miniconda3/envs/hproj/lib/python3.8/site-packages/setuptools/_distutils/version.py:346: DeprecationWarning: distutils Version classes are deprecated. Use packaging.version instead.\n",
      "  other = LooseVersion(other)\n",
      "/Users/fuzzysha/software/miniconda3/envs/hproj/lib/python3.8/site-packages/joblib/backports.py:36: DeprecationWarning: distutils Version classes are deprecated. Use packaging.version instead.\n",
      "  if LooseVersion(np.__version__) < '1.13':\n",
      "/Users/fuzzysha/software/miniconda3/envs/hproj/lib/python3.8/site-packages/setuptools/_distutils/version.py:346: DeprecationWarning: distutils Version classes are deprecated. Use packaging.version instead.\n",
      "  other = LooseVersion(other)\n",
      "/Users/fuzzysha/software/miniconda3/envs/hproj/lib/python3.8/site-packages/past/builtins/misc.py:45: DeprecationWarning: the imp module is deprecated in favour of importlib; see the module's documentation for alternative uses\n",
      "  from imp import reload\n",
      "/Users/fuzzysha/software/miniconda3/envs/hproj/lib/python3.8/site-packages/joblib/backports.py:36: DeprecationWarning: distutils Version classes are deprecated. Use packaging.version instead.\n",
      "  if LooseVersion(np.__version__) < '1.13':\n",
      "/Users/fuzzysha/software/miniconda3/envs/hproj/lib/python3.8/site-packages/setuptools/_distutils/version.py:346: DeprecationWarning: distutils Version classes are deprecated. Use packaging.version instead.\n",
      "  other = LooseVersion(other)\n",
      "/Users/fuzzysha/software/miniconda3/envs/hproj/lib/python3.8/site-packages/joblib/backports.py:36: DeprecationWarning: distutils Version classes are deprecated. Use packaging.version instead.\n",
      "  if LooseVersion(np.__version__) < '1.13':\n",
      "/Users/fuzzysha/software/miniconda3/envs/hproj/lib/python3.8/site-packages/setuptools/_distutils/version.py:346: DeprecationWarning: distutils Version classes are deprecated. Use packaging.version instead.\n",
      "  other = LooseVersion(other)\n",
      "/Users/fuzzysha/software/miniconda3/envs/hproj/lib/python3.8/site-packages/past/builtins/misc.py:45: DeprecationWarning: the imp module is deprecated in favour of importlib; see the module's documentation for alternative uses\n",
      "  from imp import reload\n",
      "/Users/fuzzysha/software/miniconda3/envs/hproj/lib/python3.8/site-packages/joblib/backports.py:36: DeprecationWarning: distutils Version classes are deprecated. Use packaging.version instead.\n",
      "  if LooseVersion(np.__version__) < '1.13':\n",
      "/Users/fuzzysha/software/miniconda3/envs/hproj/lib/python3.8/site-packages/setuptools/_distutils/version.py:346: DeprecationWarning: distutils Version classes are deprecated. Use packaging.version instead.\n",
      "  other = LooseVersion(other)\n",
      "/Users/fuzzysha/software/miniconda3/envs/hproj/lib/python3.8/site-packages/joblib/backports.py:36: DeprecationWarning: distutils Version classes are deprecated. Use packaging.version instead.\n",
      "  if LooseVersion(np.__version__) < '1.13':\n",
      "/Users/fuzzysha/software/miniconda3/envs/hproj/lib/python3.8/site-packages/setuptools/_distutils/version.py:346: DeprecationWarning: distutils Version classes are deprecated. Use packaging.version instead.\n",
      "  other = LooseVersion(other)\n",
      "/Users/fuzzysha/software/miniconda3/envs/hproj/lib/python3.8/site-packages/past/builtins/misc.py:45: DeprecationWarning: the imp module is deprecated in favour of importlib; see the module's documentation for alternative uses\n",
      "  from imp import reload\n",
      "/Users/fuzzysha/software/miniconda3/envs/hproj/lib/python3.8/site-packages/joblib/backports.py:36: DeprecationWarning: distutils Version classes are deprecated. Use packaging.version instead.\n",
      "  if LooseVersion(np.__version__) < '1.13':\n",
      "/Users/fuzzysha/software/miniconda3/envs/hproj/lib/python3.8/site-packages/setuptools/_distutils/version.py:346: DeprecationWarning: distutils Version classes are deprecated. Use packaging.version instead.\n",
      "  other = LooseVersion(other)\n",
      "/Users/fuzzysha/software/miniconda3/envs/hproj/lib/python3.8/site-packages/joblib/backports.py:36: DeprecationWarning: distutils Version classes are deprecated. Use packaging.version instead.\n",
      "  if LooseVersion(np.__version__) < '1.13':\n",
      "/Users/fuzzysha/software/miniconda3/envs/hproj/lib/python3.8/site-packages/setuptools/_distutils/version.py:346: DeprecationWarning: distutils Version classes are deprecated. Use packaging.version instead.\n",
      "  other = LooseVersion(other)\n",
      "/Users/fuzzysha/software/miniconda3/envs/hproj/lib/python3.8/site-packages/joblib/backports.py:36: DeprecationWarning: distutils Version classes are deprecated. Use packaging.version instead.\n",
      "  if LooseVersion(np.__version__) < '1.13':\n",
      "/Users/fuzzysha/software/miniconda3/envs/hproj/lib/python3.8/site-packages/setuptools/_distutils/version.py:346: DeprecationWarning: distutils Version classes are deprecated. Use packaging.version instead.\n",
      "  other = LooseVersion(other)\n",
      "/Users/fuzzysha/software/miniconda3/envs/hproj/lib/python3.8/site-packages/joblib/backports.py:36: DeprecationWarning: distutils Version classes are deprecated. Use packaging.version instead.\n",
      "  if LooseVersion(np.__version__) < '1.13':\n",
      "/Users/fuzzysha/software/miniconda3/envs/hproj/lib/python3.8/site-packages/setuptools/_distutils/version.py:346: DeprecationWarning: distutils Version classes are deprecated. Use packaging.version instead.\n",
      "  other = LooseVersion(other)\n"
     ]
    },
    {
     "name": "stderr",
     "output_type": "stream",
     "text": [
      "/Users/fuzzysha/software/miniconda3/envs/hproj/lib/python3.8/site-packages/past/builtins/misc.py:45: DeprecationWarning: the imp module is deprecated in favour of importlib; see the module's documentation for alternative uses\n",
      "  from imp import reload\n",
      "/Users/fuzzysha/software/miniconda3/envs/hproj/lib/python3.8/site-packages/joblib/backports.py:36: DeprecationWarning: distutils Version classes are deprecated. Use packaging.version instead.\n",
      "  if LooseVersion(np.__version__) < '1.13':\n",
      "/Users/fuzzysha/software/miniconda3/envs/hproj/lib/python3.8/site-packages/setuptools/_distutils/version.py:346: DeprecationWarning: distutils Version classes are deprecated. Use packaging.version instead.\n",
      "  other = LooseVersion(other)\n",
      "/Users/fuzzysha/software/miniconda3/envs/hproj/lib/python3.8/site-packages/joblib/backports.py:36: DeprecationWarning: distutils Version classes are deprecated. Use packaging.version instead.\n",
      "  if LooseVersion(np.__version__) < '1.13':\n",
      "/Users/fuzzysha/software/miniconda3/envs/hproj/lib/python3.8/site-packages/setuptools/_distutils/version.py:346: DeprecationWarning: distutils Version classes are deprecated. Use packaging.version instead.\n",
      "  other = LooseVersion(other)\n",
      "/Users/fuzzysha/software/miniconda3/envs/hproj/lib/python3.8/site-packages/joblib/backports.py:36: DeprecationWarning: distutils Version classes are deprecated. Use packaging.version instead.\n",
      "  if LooseVersion(np.__version__) < '1.13':\n",
      "/Users/fuzzysha/software/miniconda3/envs/hproj/lib/python3.8/site-packages/setuptools/_distutils/version.py:346: DeprecationWarning: distutils Version classes are deprecated. Use packaging.version instead.\n",
      "  other = LooseVersion(other)\n",
      "/Users/fuzzysha/software/miniconda3/envs/hproj/lib/python3.8/site-packages/joblib/backports.py:36: DeprecationWarning: distutils Version classes are deprecated. Use packaging.version instead.\n",
      "  if LooseVersion(np.__version__) < '1.13':\n",
      "/Users/fuzzysha/software/miniconda3/envs/hproj/lib/python3.8/site-packages/setuptools/_distutils/version.py:346: DeprecationWarning: distutils Version classes are deprecated. Use packaging.version instead.\n",
      "  other = LooseVersion(other)\n"
     ]
    }
   ],
   "source": [
    "# save the results in the html\n",
    "pyLDAvis.save_html(vis, 'hackaton_topic_modeling_fake_news.html')"
   ]
  },
  {
   "cell_type": "code",
   "execution_count": null,
   "id": "ca91028c",
   "metadata": {},
   "outputs": [],
   "source": []
  }
 ],
 "metadata": {
  "kernelspec": {
   "display_name": "Python 3 (ipykernel)",
   "language": "python",
   "name": "python3"
  },
  "language_info": {
   "codemirror_mode": {
    "name": "ipython",
    "version": 3
   },
   "file_extension": ".py",
   "mimetype": "text/x-python",
   "name": "python",
   "nbconvert_exporter": "python",
   "pygments_lexer": "ipython3",
   "version": "3.8.8"
  }
 },
 "nbformat": 4,
 "nbformat_minor": 5
}
