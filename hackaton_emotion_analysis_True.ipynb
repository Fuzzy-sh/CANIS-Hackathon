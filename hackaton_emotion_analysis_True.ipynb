{
 "cells": [
  {
   "cell_type": "code",
   "execution_count": 1,
   "id": "10716ed6",
   "metadata": {},
   "outputs": [
    {
     "name": "stderr",
     "output_type": "stream",
     "text": [
      "[nltk_data] Downloading package punkt to /Users/fuzzysha/nltk_data...\n",
      "[nltk_data]   Package punkt is already up-to-date!\n",
      "[nltk_data] Downloading package punkt to /Users/fuzzysha/nltk_data...\n",
      "[nltk_data]   Package punkt is already up-to-date!\n"
     ]
    }
   ],
   "source": [
    "import pandas as pd\n",
    "import numpy as np\n",
    "import os\n",
    "from datetime import datetime \n",
    "import matplotlib.pyplot as plt\n",
    "import seaborn as sns\n",
    "import math\n",
    "\n",
    "import time\n",
    "\n",
    "from datetime import date # Removed duplicate import of datetime\n",
    "import calendar\n",
    "\n",
    "import nltk\n",
    "nltk.download() # Commented out, as it may prompt a download dialog\n",
    "\n",
    "import string\n",
    "import regex # Removed duplicate import of re\n",
    "import re\n",
    "\n",
    "from nltk.corpus import stopwords\n",
    "from pprint import pprint\n",
    "\n",
    "import spacy\n",
    "\n",
    "import contractions\n",
    "\n",
    "# Text to emotion \n",
    "import nltk\n",
    "nltk.download('punkt') # Moved download to correct location\n",
    "\n",
    "import pandas as pd\n",
    "from nltk import word_tokenize\n",
    "from nltk.stem.snowball import SnowballStemmer\n",
    "import requests\n",
    "\n",
    "from LeXmo import LeXmo\n",
    "\n",
    "import tqdm\n",
    "from tqdm import tqdm_notebook,tqdm\n",
    "\n",
    "from pysummarization.nlpbase.auto_abstractor import AutoAbstractor\n",
    "from pysummarization.tokenizabledoc.simple_tokenizer import SimpleTokenizer\n",
    "from pysummarization.abstractabledoc.top_n_rank_abstractor import TopNRankAbstractor\n",
    "\n",
    "import operator\n",
    "\n",
    "# Increase display options for Pandas dataframes\n",
    "pd.options.display.max_columns = 2000\n",
    "pd.options.display.max_rows = 2000\n",
    "pd.options.display.max_colwidth = 10000\n",
    "pd.options.display.max_seq_items = 2000\n"
   ]
  },
  {
   "cell_type": "code",
   "execution_count": 3,
   "id": "8408a665",
   "metadata": {},
   "outputs": [],
   "source": [
    "# read datasets\n",
    "df_news_true=pd.read_csv('data/DataSet_Misinfo_TRUE.csv',index_col=False)\n",
    "df_news_fake=pd.read_csv('data/DataSet_Misinfo_FAKE.csv')\n",
    "df_news_rpsub=pd.read_csv('data/EXTRA_RussianPropagandaSubset.csv')"
   ]
  },
  {
   "cell_type": "code",
   "execution_count": 7,
   "id": "3020ce8e",
   "metadata": {},
   "outputs": [
    {
     "name": "stderr",
     "output_type": "stream",
     "text": [
      "100%|██████████| 34975/34975 [02:38<00:00, 220.10it/s]\n"
     ]
    },
    {
     "name": "stdout",
     "output_type": "stream",
     "text": [
      "we have 821955 sentences in the Expereince\n",
      "we have 787223 unique sentences in the Expereince\n",
      "The first sentence is:\n",
      "” It has had close to 900, 000 views.\n"
     ]
    }
   ],
   "source": [
    "# Separate each paragraph into sentences using nltk.sent_tokenize\n",
    "df_sentences=pd.DataFrame(columns=['sent'])\n",
    "list_token=[]\n",
    "for para in tqdm(df_news_true.text):\n",
    "    if pd.isna(para)==False:\n",
    "        tokens = nltk.sent_tokenize(para)\n",
    "        list_token=list_token+tokens\n",
    "\n",
    "# print the number of sentences        \n",
    "print(\"we have {} sentences in the Text\".format(len(list_token)))\n",
    "\n",
    "# Print the number of unique sentences       \n",
    "print(\"we have {} unique sentences in the Text\".format(len(set(list_token))))\n",
    "\n",
    "#convert the list of sentences into dataframe \n",
    "df_sentence =pd.DataFrame([set(list_token)]).T\n",
    "\n",
    "# Rename the column\n",
    "df_sentence.columns=['sent']\n",
    "\n",
    "# Print the first sentence\n",
    "print ( \"The first sentence is:\")\n",
    "print(df_sentence.loc[1,'sent'] )"
   ]
  },
  {
   "cell_type": "code",
   "execution_count": 8,
   "id": "850389e6",
   "metadata": {},
   "outputs": [],
   "source": [
    "# Add columns for each emotion to the df_sentence DataFrame\n",
    "df_sentence['anger']=0\n",
    "df_sentence['anticipation']=0\n",
    "df_sentence['disgust']=0\n",
    "df_sentence['fear']=0\n",
    "df_sentence['joy']=0\n",
    "df_sentence['negative']=0\n",
    "df_sentence['positive']=0\n",
    "df_sentence['sadness']=0\n",
    "df_sentence['surprise']=0\n",
    "df_sentence['trust']=0\n",
    "\n",
    "# Fix contractions like \"I'm\" to \"I am\"\n",
    "df_sentence['sent_cont_fixed']=''\n",
    "for i,row in df_sentence.iterrows():\n",
    "    df_sentence.loc[i,'sent_cont_fixed']=contractions.fix(row.sent)\n",
    "    \n",
    "# Make a copy of the df_sentence DataFrame\n",
    "df_sentence_new=df_sentence.copy()"
   ]
  },
  {
   "cell_type": "code",
   "execution_count": 14,
   "id": "46931f84",
   "metadata": {
    "collapsed": true
   },
   "outputs": [
    {
     "name": "stderr",
     "output_type": "stream",
     "text": [
      "/var/folders/8k/v_790m6j3ksgsl4j86kmxvsw0000gn/T/ipykernel_82702/2957788797.py:2: TqdmDeprecationWarning: This function will be removed in tqdm==5.0.0\n",
      "Please use `tqdm.notebook.tqdm` instead of `tqdm.tqdm_notebook`\n",
      "  for i,row in tqdm_notebook(df_sentence_new.iterrows()):\n"
     ]
    },
    {
     "data": {
      "application/vnd.jupyter.widget-view+json": {
       "model_id": "15559c05324d487a941d4134518a2ff8",
       "version_major": 2,
       "version_minor": 0
      },
      "text/plain": [
       "0it [00:00, ?it/s]"
      ]
     },
     "metadata": {},
     "output_type": "display_data"
    },
    {
     "ename": "KeyboardInterrupt",
     "evalue": "",
     "output_type": "error",
     "traceback": [
      "\u001b[0;31m---------------------------------------------------------------------------\u001b[0m",
      "\u001b[0;31mKeyboardInterrupt\u001b[0m                         Traceback (most recent call last)",
      "\u001b[0;32m/var/folders/8k/v_790m6j3ksgsl4j86kmxvsw0000gn/T/ipykernel_82702/2957788797.py\u001b[0m in \u001b[0;36m<module>\u001b[0;34m\u001b[0m\n\u001b[1;32m      1\u001b[0m \u001b[0;31m# for each sentence, calculate the the related emotions and fill the values\u001b[0m\u001b[0;34m\u001b[0m\u001b[0;34m\u001b[0m\u001b[0;34m\u001b[0m\u001b[0m\n\u001b[1;32m      2\u001b[0m \u001b[0;32mfor\u001b[0m \u001b[0mi\u001b[0m\u001b[0;34m,\u001b[0m\u001b[0mrow\u001b[0m \u001b[0;32min\u001b[0m \u001b[0mtqdm_notebook\u001b[0m\u001b[0;34m(\u001b[0m\u001b[0mdf_sentence_new\u001b[0m\u001b[0;34m.\u001b[0m\u001b[0miterrows\u001b[0m\u001b[0;34m(\u001b[0m\u001b[0;34m)\u001b[0m\u001b[0;34m)\u001b[0m\u001b[0;34m:\u001b[0m\u001b[0;34m\u001b[0m\u001b[0;34m\u001b[0m\u001b[0m\n\u001b[0;32m----> 3\u001b[0;31m     \u001b[0memo\u001b[0m\u001b[0;34m=\u001b[0m\u001b[0;34m(\u001b[0m\u001b[0mLeXmo\u001b[0m\u001b[0;34m.\u001b[0m\u001b[0mLeXmo\u001b[0m\u001b[0;34m(\u001b[0m\u001b[0mrow\u001b[0m\u001b[0;34m.\u001b[0m\u001b[0msent_cont_fixed\u001b[0m\u001b[0;34m)\u001b[0m\u001b[0;34m)\u001b[0m\u001b[0;34m\u001b[0m\u001b[0;34m\u001b[0m\u001b[0m\n\u001b[0m\u001b[1;32m      4\u001b[0m     \u001b[0memo\u001b[0m\u001b[0;34m.\u001b[0m\u001b[0mpop\u001b[0m\u001b[0;34m(\u001b[0m\u001b[0;34m'text'\u001b[0m\u001b[0;34m,\u001b[0m \u001b[0;32mNone\u001b[0m\u001b[0;34m)\u001b[0m\u001b[0;34m\u001b[0m\u001b[0;34m\u001b[0m\u001b[0m\n\u001b[1;32m      5\u001b[0m     \u001b[0;32mfor\u001b[0m \u001b[0mkey\u001b[0m\u001b[0;34m,\u001b[0m\u001b[0mvalue\u001b[0m \u001b[0;32min\u001b[0m \u001b[0memo\u001b[0m\u001b[0;34m.\u001b[0m\u001b[0mitems\u001b[0m\u001b[0;34m(\u001b[0m\u001b[0;34m)\u001b[0m\u001b[0;34m:\u001b[0m\u001b[0;34m\u001b[0m\u001b[0;34m\u001b[0m\u001b[0m\n",
      "\u001b[0;32m~/software/miniconda3/envs/hproj/lib/python3.8/site-packages/LeXmo/LeXmo.py\u001b[0m in \u001b[0;36mLeXmo\u001b[0;34m(text)\u001b[0m\n\u001b[1;32m     47\u001b[0m         \u001b[0mword\u001b[0m \u001b[0;34m=\u001b[0m \u001b[0mstemmer\u001b[0m\u001b[0;34m.\u001b[0m\u001b[0mstem\u001b[0m\u001b[0;34m(\u001b[0m\u001b[0mword\u001b[0m\u001b[0;34m.\u001b[0m\u001b[0mlower\u001b[0m\u001b[0;34m(\u001b[0m\u001b[0;34m)\u001b[0m\u001b[0;34m)\u001b[0m\u001b[0;34m\u001b[0m\u001b[0;34m\u001b[0m\u001b[0m\n\u001b[1;32m     48\u001b[0m \u001b[0;34m\u001b[0m\u001b[0m\n\u001b[0;32m---> 49\u001b[0;31m         \u001b[0memo_score\u001b[0m \u001b[0;34m=\u001b[0m \u001b[0;34m(\u001b[0m\u001b[0memolex_words\u001b[0m\u001b[0;34m[\u001b[0m\u001b[0memolex_words\u001b[0m\u001b[0;34m.\u001b[0m\u001b[0mword\u001b[0m \u001b[0;34m==\u001b[0m \u001b[0mword\u001b[0m\u001b[0;34m]\u001b[0m\u001b[0;34m)\u001b[0m\u001b[0;34m\u001b[0m\u001b[0;34m\u001b[0m\u001b[0m\n\u001b[0m\u001b[1;32m     50\u001b[0m         \u001b[0mrows_list\u001b[0m\u001b[0;34m.\u001b[0m\u001b[0mappend\u001b[0m\u001b[0;34m(\u001b[0m\u001b[0memo_score\u001b[0m\u001b[0;34m)\u001b[0m\u001b[0;34m\u001b[0m\u001b[0;34m\u001b[0m\u001b[0m\n\u001b[1;32m     51\u001b[0m \u001b[0;34m\u001b[0m\u001b[0m\n",
      "\u001b[0;32m~/software/miniconda3/envs/hproj/lib/python3.8/site-packages/pandas/core/ops/common.py\u001b[0m in \u001b[0;36mnew_method\u001b[0;34m(self, other)\u001b[0m\n\u001b[1;32m     68\u001b[0m         \u001b[0mother\u001b[0m \u001b[0;34m=\u001b[0m \u001b[0mitem_from_zerodim\u001b[0m\u001b[0;34m(\u001b[0m\u001b[0mother\u001b[0m\u001b[0;34m)\u001b[0m\u001b[0;34m\u001b[0m\u001b[0;34m\u001b[0m\u001b[0m\n\u001b[1;32m     69\u001b[0m \u001b[0;34m\u001b[0m\u001b[0m\n\u001b[0;32m---> 70\u001b[0;31m         \u001b[0;32mreturn\u001b[0m \u001b[0mmethod\u001b[0m\u001b[0;34m(\u001b[0m\u001b[0mself\u001b[0m\u001b[0;34m,\u001b[0m \u001b[0mother\u001b[0m\u001b[0;34m)\u001b[0m\u001b[0;34m\u001b[0m\u001b[0;34m\u001b[0m\u001b[0m\n\u001b[0m\u001b[1;32m     71\u001b[0m \u001b[0;34m\u001b[0m\u001b[0m\n\u001b[1;32m     72\u001b[0m     \u001b[0;32mreturn\u001b[0m \u001b[0mnew_method\u001b[0m\u001b[0;34m\u001b[0m\u001b[0;34m\u001b[0m\u001b[0m\n",
      "\u001b[0;32m~/software/miniconda3/envs/hproj/lib/python3.8/site-packages/pandas/core/arraylike.py\u001b[0m in \u001b[0;36m__eq__\u001b[0;34m(self, other)\u001b[0m\n\u001b[1;32m     38\u001b[0m     \u001b[0;34m@\u001b[0m\u001b[0munpack_zerodim_and_defer\u001b[0m\u001b[0;34m(\u001b[0m\u001b[0;34m\"__eq__\"\u001b[0m\u001b[0;34m)\u001b[0m\u001b[0;34m\u001b[0m\u001b[0;34m\u001b[0m\u001b[0m\n\u001b[1;32m     39\u001b[0m     \u001b[0;32mdef\u001b[0m \u001b[0m__eq__\u001b[0m\u001b[0;34m(\u001b[0m\u001b[0mself\u001b[0m\u001b[0;34m,\u001b[0m \u001b[0mother\u001b[0m\u001b[0;34m)\u001b[0m\u001b[0;34m:\u001b[0m\u001b[0;34m\u001b[0m\u001b[0;34m\u001b[0m\u001b[0m\n\u001b[0;32m---> 40\u001b[0;31m         \u001b[0;32mreturn\u001b[0m \u001b[0mself\u001b[0m\u001b[0;34m.\u001b[0m\u001b[0m_cmp_method\u001b[0m\u001b[0;34m(\u001b[0m\u001b[0mother\u001b[0m\u001b[0;34m,\u001b[0m \u001b[0moperator\u001b[0m\u001b[0;34m.\u001b[0m\u001b[0meq\u001b[0m\u001b[0;34m)\u001b[0m\u001b[0;34m\u001b[0m\u001b[0;34m\u001b[0m\u001b[0m\n\u001b[0m\u001b[1;32m     41\u001b[0m \u001b[0;34m\u001b[0m\u001b[0m\n\u001b[1;32m     42\u001b[0m     \u001b[0;34m@\u001b[0m\u001b[0munpack_zerodim_and_defer\u001b[0m\u001b[0;34m(\u001b[0m\u001b[0;34m\"__ne__\"\u001b[0m\u001b[0;34m)\u001b[0m\u001b[0;34m\u001b[0m\u001b[0;34m\u001b[0m\u001b[0m\n",
      "\u001b[0;32m~/software/miniconda3/envs/hproj/lib/python3.8/site-packages/pandas/core/series.py\u001b[0m in \u001b[0;36m_cmp_method\u001b[0;34m(self, other, op)\u001b[0m\n\u001b[1;32m   5621\u001b[0m \u001b[0;34m\u001b[0m\u001b[0m\n\u001b[1;32m   5622\u001b[0m         \u001b[0;32mwith\u001b[0m \u001b[0mnp\u001b[0m\u001b[0;34m.\u001b[0m\u001b[0merrstate\u001b[0m\u001b[0;34m(\u001b[0m\u001b[0mall\u001b[0m\u001b[0;34m=\u001b[0m\u001b[0;34m\"ignore\"\u001b[0m\u001b[0;34m)\u001b[0m\u001b[0;34m:\u001b[0m\u001b[0;34m\u001b[0m\u001b[0;34m\u001b[0m\u001b[0m\n\u001b[0;32m-> 5623\u001b[0;31m             \u001b[0mres_values\u001b[0m \u001b[0;34m=\u001b[0m \u001b[0mops\u001b[0m\u001b[0;34m.\u001b[0m\u001b[0mcomparison_op\u001b[0m\u001b[0;34m(\u001b[0m\u001b[0mlvalues\u001b[0m\u001b[0;34m,\u001b[0m \u001b[0mrvalues\u001b[0m\u001b[0;34m,\u001b[0m \u001b[0mop\u001b[0m\u001b[0;34m)\u001b[0m\u001b[0;34m\u001b[0m\u001b[0;34m\u001b[0m\u001b[0m\n\u001b[0m\u001b[1;32m   5624\u001b[0m \u001b[0;34m\u001b[0m\u001b[0m\n\u001b[1;32m   5625\u001b[0m         \u001b[0;32mreturn\u001b[0m \u001b[0mself\u001b[0m\u001b[0;34m.\u001b[0m\u001b[0m_construct_result\u001b[0m\u001b[0;34m(\u001b[0m\u001b[0mres_values\u001b[0m\u001b[0;34m,\u001b[0m \u001b[0mname\u001b[0m\u001b[0;34m=\u001b[0m\u001b[0mres_name\u001b[0m\u001b[0;34m)\u001b[0m\u001b[0;34m\u001b[0m\u001b[0;34m\u001b[0m\u001b[0m\n",
      "\u001b[0;32m~/software/miniconda3/envs/hproj/lib/python3.8/site-packages/pandas/core/ops/array_ops.py\u001b[0m in \u001b[0;36mcomparison_op\u001b[0;34m(left, right, op)\u001b[0m\n\u001b[1;32m    281\u001b[0m \u001b[0;34m\u001b[0m\u001b[0m\n\u001b[1;32m    282\u001b[0m     \u001b[0;32melif\u001b[0m \u001b[0mis_object_dtype\u001b[0m\u001b[0;34m(\u001b[0m\u001b[0mlvalues\u001b[0m\u001b[0;34m.\u001b[0m\u001b[0mdtype\u001b[0m\u001b[0;34m)\u001b[0m \u001b[0;32mor\u001b[0m \u001b[0misinstance\u001b[0m\u001b[0;34m(\u001b[0m\u001b[0mrvalues\u001b[0m\u001b[0;34m,\u001b[0m \u001b[0mstr\u001b[0m\u001b[0;34m)\u001b[0m\u001b[0;34m:\u001b[0m\u001b[0;34m\u001b[0m\u001b[0;34m\u001b[0m\u001b[0m\n\u001b[0;32m--> 283\u001b[0;31m         \u001b[0mres_values\u001b[0m \u001b[0;34m=\u001b[0m \u001b[0mcomp_method_OBJECT_ARRAY\u001b[0m\u001b[0;34m(\u001b[0m\u001b[0mop\u001b[0m\u001b[0;34m,\u001b[0m \u001b[0mlvalues\u001b[0m\u001b[0;34m,\u001b[0m \u001b[0mrvalues\u001b[0m\u001b[0;34m)\u001b[0m\u001b[0;34m\u001b[0m\u001b[0;34m\u001b[0m\u001b[0m\n\u001b[0m\u001b[1;32m    284\u001b[0m \u001b[0;34m\u001b[0m\u001b[0m\n\u001b[1;32m    285\u001b[0m     \u001b[0;32melse\u001b[0m\u001b[0;34m:\u001b[0m\u001b[0;34m\u001b[0m\u001b[0;34m\u001b[0m\u001b[0m\n",
      "\u001b[0;32m~/software/miniconda3/envs/hproj/lib/python3.8/site-packages/pandas/core/ops/array_ops.py\u001b[0m in \u001b[0;36mcomp_method_OBJECT_ARRAY\u001b[0;34m(op, x, y)\u001b[0m\n\u001b[1;32m     71\u001b[0m         \u001b[0mresult\u001b[0m \u001b[0;34m=\u001b[0m \u001b[0mlibops\u001b[0m\u001b[0;34m.\u001b[0m\u001b[0mvec_compare\u001b[0m\u001b[0;34m(\u001b[0m\u001b[0mx\u001b[0m\u001b[0;34m.\u001b[0m\u001b[0mravel\u001b[0m\u001b[0;34m(\u001b[0m\u001b[0;34m)\u001b[0m\u001b[0;34m,\u001b[0m \u001b[0my\u001b[0m\u001b[0;34m.\u001b[0m\u001b[0mravel\u001b[0m\u001b[0;34m(\u001b[0m\u001b[0;34m)\u001b[0m\u001b[0;34m,\u001b[0m \u001b[0mop\u001b[0m\u001b[0;34m)\u001b[0m\u001b[0;34m\u001b[0m\u001b[0;34m\u001b[0m\u001b[0m\n\u001b[1;32m     72\u001b[0m     \u001b[0;32melse\u001b[0m\u001b[0;34m:\u001b[0m\u001b[0;34m\u001b[0m\u001b[0;34m\u001b[0m\u001b[0m\n\u001b[0;32m---> 73\u001b[0;31m         \u001b[0mresult\u001b[0m \u001b[0;34m=\u001b[0m \u001b[0mlibops\u001b[0m\u001b[0;34m.\u001b[0m\u001b[0mscalar_compare\u001b[0m\u001b[0;34m(\u001b[0m\u001b[0mx\u001b[0m\u001b[0;34m.\u001b[0m\u001b[0mravel\u001b[0m\u001b[0;34m(\u001b[0m\u001b[0;34m)\u001b[0m\u001b[0;34m,\u001b[0m \u001b[0my\u001b[0m\u001b[0;34m,\u001b[0m \u001b[0mop\u001b[0m\u001b[0;34m)\u001b[0m\u001b[0;34m\u001b[0m\u001b[0;34m\u001b[0m\u001b[0m\n\u001b[0m\u001b[1;32m     74\u001b[0m     \u001b[0;32mreturn\u001b[0m \u001b[0mresult\u001b[0m\u001b[0;34m.\u001b[0m\u001b[0mreshape\u001b[0m\u001b[0;34m(\u001b[0m\u001b[0mx\u001b[0m\u001b[0;34m.\u001b[0m\u001b[0mshape\u001b[0m\u001b[0;34m)\u001b[0m\u001b[0;34m\u001b[0m\u001b[0;34m\u001b[0m\u001b[0m\n\u001b[1;32m     75\u001b[0m \u001b[0;34m\u001b[0m\u001b[0m\n",
      "\u001b[0;31mKeyboardInterrupt\u001b[0m: "
     ]
    }
   ],
   "source": [
    "# For each sentence in the df_sentence_new DataFrame, calculate the related emotions using LeXmo\n",
    "for i,row in tqdm_notebook(df_sentence_new.iterrows()):\n",
    "    # Use LeXmo on the fixed version of the sentence to avoid contraction issues\n",
    "    emo=(LeXmo.LeXmo(row.sent_cont_fixed))\n",
    "    # Remove the 'text' key from the dictionary, which contains the original sentence\n",
    "    emo.pop('text', None)\n",
    "    # Fill the values in the DataFrame for each emotion\n",
    "    for key,value in emo.items():\n",
    "        df_sentence_new.loc[i,key]=round(value,3)  "
   ]
  },
  {
   "cell_type": "code",
   "execution_count": 15,
   "id": "02f5059f",
   "metadata": {},
   "outputs": [],
   "source": [
    "#save the database with the emotion for each sentence\n",
    "# df_sentence_new.to_hdf('data/df_news_true_emotions.h5', key='df_news_true_emotions')"
   ]
  },
  {
   "cell_type": "code",
   "execution_count": 104,
   "id": "d2f80d56",
   "metadata": {
    "scrolled": true
   },
   "outputs": [],
   "source": [
    "#116,371 Sentences\n",
    "df_sentence_new_=df_sentence_new.iloc[:110000,:]"
   ]
  },
  {
   "cell_type": "code",
   "execution_count": 105,
   "id": "7c5ea392",
   "metadata": {},
   "outputs": [
    {
     "data": {
      "text/html": [
       "<div>\n",
       "<style scoped>\n",
       "    .dataframe tbody tr th:only-of-type {\n",
       "        vertical-align: middle;\n",
       "    }\n",
       "\n",
       "    .dataframe tbody tr th {\n",
       "        vertical-align: top;\n",
       "    }\n",
       "\n",
       "    .dataframe thead th {\n",
       "        text-align: right;\n",
       "    }\n",
       "</style>\n",
       "<table border=\"1\" class=\"dataframe\">\n",
       "  <thead>\n",
       "    <tr style=\"text-align: right;\">\n",
       "      <th></th>\n",
       "      <th>emotion</th>\n",
       "      <th>emotion_freq</th>\n",
       "    </tr>\n",
       "  </thead>\n",
       "  <tbody>\n",
       "    <tr>\n",
       "      <th>6</th>\n",
       "      <td>positive</td>\n",
       "      <td>65813</td>\n",
       "    </tr>\n",
       "    <tr>\n",
       "      <th>9</th>\n",
       "      <td>trust</td>\n",
       "      <td>57957</td>\n",
       "    </tr>\n",
       "    <tr>\n",
       "      <th>5</th>\n",
       "      <td>negative</td>\n",
       "      <td>49198</td>\n",
       "    </tr>\n",
       "    <tr>\n",
       "      <th>1</th>\n",
       "      <td>anticipation</td>\n",
       "      <td>44764</td>\n",
       "    </tr>\n",
       "    <tr>\n",
       "      <th>3</th>\n",
       "      <td>fear</td>\n",
       "      <td>32830</td>\n",
       "    </tr>\n",
       "    <tr>\n",
       "      <th>8</th>\n",
       "      <td>surprise</td>\n",
       "      <td>30025</td>\n",
       "    </tr>\n",
       "    <tr>\n",
       "      <th>0</th>\n",
       "      <td>anger</td>\n",
       "      <td>28934</td>\n",
       "    </tr>\n",
       "    <tr>\n",
       "      <th>4</th>\n",
       "      <td>joy</td>\n",
       "      <td>28207</td>\n",
       "    </tr>\n",
       "    <tr>\n",
       "      <th>7</th>\n",
       "      <td>sadness</td>\n",
       "      <td>27694</td>\n",
       "    </tr>\n",
       "    <tr>\n",
       "      <th>2</th>\n",
       "      <td>disgust</td>\n",
       "      <td>13476</td>\n",
       "    </tr>\n",
       "  </tbody>\n",
       "</table>\n",
       "</div>"
      ],
      "text/plain": [
       "        emotion  emotion_freq\n",
       "6      positive         65813\n",
       "9         trust         57957\n",
       "5      negative         49198\n",
       "1  anticipation         44764\n",
       "3          fear         32830\n",
       "8      surprise         30025\n",
       "0         anger         28934\n",
       "4           joy         28207\n",
       "7       sadness         27694\n",
       "2       disgust         13476"
      ]
     },
     "execution_count": 105,
     "metadata": {},
     "output_type": "execute_result"
    }
   ],
   "source": [
    "df_freq_by_emotion={}\n",
    "\n",
    "df_freq_by_emotion['anger']=len(df_sentence_new_[df_sentence_new_['anger']>0])\n",
    "df_freq_by_emotion['anticipation']=len(df_sentence_new_[df_sentence_new_['anticipation']>0])\n",
    "df_freq_by_emotion['disgust']=len(df_sentence_new_[df_sentence_new_['disgust']>0])\n",
    "df_freq_by_emotion['fear']=len(df_sentence_new_[df_sentence_new_['fear']>0])\n",
    "df_freq_by_emotion['joy']=len(df_sentence_new_[df_sentence_new_['joy']>0])\n",
    "df_freq_by_emotion['negative']=len(df_sentence_new_[df_sentence_new_['negative']>0])\n",
    "df_freq_by_emotion['positive']=len(df_sentence_new_[df_sentence_new_['positive']>0])\n",
    "df_freq_by_emotion['sadness']=len(df_sentence_new_[df_sentence_new_['sadness']>0])\n",
    "df_freq_by_emotion['surprise']=len(df_sentence_new_[df_sentence_new_['surprise']>0])\n",
    "df_freq_by_emotion['trust']=len(df_sentence_new_[df_sentence_new_['trust']>0])\n",
    "\n",
    "\n",
    "df_freq_by_emotion=pd.DataFrame.from_dict(df_freq_by_emotion,orient='index').reset_index()\n",
    "\n",
    "df_freq_by_emotion.columns=['emotion','emotion_freq']\n",
    "\n",
    "df_freq_by_emotion.sort_values('emotion_freq', ascending=False)"
   ]
  },
  {
   "cell_type": "code",
   "execution_count": 106,
   "id": "3a53cf10",
   "metadata": {},
   "outputs": [
    {
     "name": "stderr",
     "output_type": "stream",
     "text": [
      "No artists with labels found to put in legend.  Note that artists whose label start with an underscore are ignored when legend() is called with no argument.\n"
     ]
    },
    {
     "data": {
      "text/plain": [
       "[(0.0, 910.0),\n",
       " Text(4.444444444444445, 0.5, ''),\n",
       " Text(0.5, 25.078125, 'Faculties | Continuing students')]"
      ]
     },
     "execution_count": 106,
     "metadata": {},
     "output_type": "execute_result"
    },
    {
     "data": {
      "image/png": "[encoded data removed]",
      "text/plain": [
       "<Figure size 640x480 with 1 Axes>"
      ]
     },
     "metadata": {},
     "output_type": "display_data"
    }
   ],
   "source": [
    "sns.set_theme(style=\"whitegrid\")\n",
    "pal=sns.color_palette(\"rocket_r\", as_cmap=True)\n",
    "sns.barplot(data=df_freq_by_emotion, \n",
    "            y=df_freq_by_emotion.emotion,\n",
    "            x=df_freq_by_emotion.emotion_freq,\n",
    "            order=df_freq_by_emotion.sort_values('emotion_freq', ascending=False).emotion,\n",
    "            color='C0'\n",
    "           \n",
    "           \n",
    "           )\n",
    "# # Initialize the matplotlib figure\n",
    "# f, ax = plt.subplots(figsize=(8, 6))\n",
    "\n",
    "ax.legend(ncol=1, loc=\"lower right\", frameon=True, title='March prefered')\n",
    "ax.set(xlim=(0, 910), ylabel=\"\", xlabel=\"Faculties | Continuing students\")\n"
   ]
  },
  {
   "cell_type": "code",
   "execution_count": 108,
   "id": "c6caa07c",
   "metadata": {},
   "outputs": [
    {
     "data": {
      "text/plain": [
       "['hackaton_wordcloud_heatmap_Fake.ipynb',\n",
       " '1- country_rigon_finder_cont_students.ipynb',\n",
       " '7-NOT_reg_info_New_Stud.ipynb',\n",
       " '5_Webinar_registration_feedback_new_students.ipynb',\n",
       " '9_Reg_info_Cont_Student-New_students.ipynb',\n",
       " '7-NOT_reg_in_advance_Cont_Stud.ipynb',\n",
       " '.DS_Store',\n",
       " 'test_model.model.expElogbeta.npy',\n",
       " 'Topic_modeling_improve_experience_Cont_students.ipynb',\n",
       " '6_NLP_analysis_Registration_experience_Imporve_advisor_online_inperson_classes_New_Stud.ipynb',\n",
       " '8.1-reg_plan_to_change_number_courses_Cont_Stud.ipynb',\n",
       " '7-reg_in_advnace_New_Stud.ipynb',\n",
       " 'hackaton_emotion_analysis_Fake.ipynb',\n",
       " 'sa_continuing_undergrad_2022_23.ipynb',\n",
       " 'Udemy-notes-master',\n",
       " '7-NOT_reg_in_advnace_New_Stud.ipynb',\n",
       " 'hackaton_topic_modeling_fake_news.ipynb',\n",
       " '1- country_rigon_finder-new_student.ipynb',\n",
       " 'sa_new_student_undergrad_2022_23.ipynb',\n",
       " 'Survey_Analysis.ipynb',\n",
       " 'hackaton_tokenizing_summerizing_True.ipynb',\n",
       " 'Topic_modeling_experience_Cont_students.ipynb',\n",
       " 'df_sentences_with_emotions.h5',\n",
       " '5.0- Not_Reg_Reaosns_NLP_Cont_Student.ipynb',\n",
       " 'df_sentences_with_emotions_new.h5',\n",
       " 'The-Python-Graph-Gallery-master',\n",
       " 'test_model_fake.model.id2word',\n",
       " '~$Fake News Infographics by Slidesgo.pptx',\n",
       " '9_Reg_info_Cont_Student.ipynb',\n",
       " 'test_model.model',\n",
       " 'atap-master',\n",
       " '8.0-Advisor_plan_to_end_reg_Cont_Stud.ipynb',\n",
       " 'hackaton_visualization.ipynb',\n",
       " 'hackaton_topic_modeling_fake_news_old.ipynb',\n",
       " 'hackaton_emotion_analysis_True.ipynb',\n",
       " 'test_model.model.state',\n",
       " '6_NLP_analysis_Registration_experience_Imporve_advisor_online_inperson_classes_Cont_Stud.ipynb',\n",
       " '8.0-Advisor_plan_to_end_reg_New_Stud.ipynb',\n",
       " 'Continiuing_new_students.textClipping',\n",
       " '0_Merge_Con_New_students.ipynb',\n",
       " 'hackaton_topic_modeling_true_news.ipynb',\n",
       " '3_ NLP_emotion_analysis_experience_sent_Cont_students.ipynb',\n",
       " 'test_model_fake.model.state',\n",
       " '7-NOT_reg_info_Cont_Stud.ipynb',\n",
       " '2-March_analysis_New_studemts.ipynb',\n",
       " 'NLP',\n",
       " 'hackaton_topic_modeling_true_news.html',\n",
       " 'hackaton_wordcloud_heatmap_True.ipynb',\n",
       " '2- March_analysis_cont_students.ipynb',\n",
       " '.ipynb_checkpoints',\n",
       " 'test_model_fake.model.expElogbeta.npy',\n",
       " 'Fake News Infographics by Slidesgo.pptx',\n",
       " '5.0- Not_Reg_Reaosns_NLP_New_Stud.ipynb',\n",
       " '4_chatbot.ipynb',\n",
       " 'test_model_fake.model',\n",
       " '10- reg_communication_Cont_Stud.ipynb',\n",
       " '8.1-reg_plan_to_change_number_courses_New_Stud.ipynb',\n",
       " 'data',\n",
       " '10-reg_communication_New_students.ipynb',\n",
       " '7-reg_in_advance_Cont_Stud.ipynb',\n",
       " 'test_model.model.id2word',\n",
       " 'sa_continuing_final_Not_registered.ipynb',\n",
       " 'hackaton_tokenizing_summerizing_Fake.ipynb',\n",
       " 'hackaton_topic_modeling_true_news-Copy1.ipynb',\n",
       " 'hackaton_topic_modeling_fake_news.html']"
      ]
     },
     "execution_count": 108,
     "metadata": {},
     "output_type": "execute_result"
    }
   ],
   "source": [
    "import os \n",
    "os.listdir()"
   ]
  },
  {
   "cell_type": "code",
   "execution_count": null,
   "id": "e1c87119",
   "metadata": {},
   "outputs": [],
   "source": []
  }
 ],
 "metadata": {
  "kernelspec": {
   "display_name": "Python 3 (ipykernel)",
   "language": "python",
   "name": "python3"
  },
  "language_info": {
   "codemirror_mode": {
    "name": "ipython",
    "version": 3
   },
   "file_extension": ".py",
   "mimetype": "text/x-python",
   "name": "python",
   "nbconvert_exporter": "python",
   "pygments_lexer": "ipython3",
   "version": "3.8.8"
  }
 },
 "nbformat": 4,
 "nbformat_minor": 5
}
