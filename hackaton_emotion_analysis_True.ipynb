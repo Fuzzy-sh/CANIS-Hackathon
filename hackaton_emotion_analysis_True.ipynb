{
 "cells": [
  {
   "cell_type": "code",
   "execution_count": 1,
   "id": "10716ed6",
   "metadata": {},
   "outputs": [
    {
     "name": "stderr",
     "output_type": "stream",
     "text": [
      "[nltk_data] Downloading package punkt to /Users/fuzzysha/nltk_data...\n",
      "[nltk_data]   Package punkt is already up-to-date!\n",
      "[nltk_data] Downloading package punkt to /Users/fuzzysha/nltk_data...\n",
      "[nltk_data]   Package punkt is already up-to-date!\n"
     ]
    }
   ],
   "source": [
    "import pandas as pd\n",
    "import numpy as np\n",
    "import os\n",
    "from datetime import datetime \n",
    "import matplotlib.pyplot as plt\n",
    "import seaborn as sns\n",
    "import math\n",
    "\n",
    "import time\n",
    "\n",
    "from datetime import date # Removed duplicate import of datetime\n",
    "import calendar\n",
    "\n",
    "import nltk\n",
    "nltk.download() # Commented out, as it may prompt a download dialog\n",
    "\n",
    "import string\n",
    "import regex # Removed duplicate import of re\n",
    "import re\n",
    "\n",
    "from nltk.corpus import stopwords\n",
    "from pprint import pprint\n",
    "\n",
    "import spacy\n",
    "\n",
    "import contractions\n",
    "\n",
    "# Text to emotion \n",
    "import nltk\n",
    "nltk.download('punkt') # Moved download to correct location\n",
    "\n",
    "import pandas as pd\n",
    "from nltk import word_tokenize\n",
    "from nltk.stem.snowball import SnowballStemmer\n",
    "import requests\n",
    "\n",
    "from LeXmo import LeXmo\n",
    "\n",
    "import tqdm\n",
    "from tqdm import tqdm_notebook,tqdm\n",
    "\n",
    "from pysummarization.nlpbase.auto_abstractor import AutoAbstractor\n",
    "from pysummarization.tokenizabledoc.simple_tokenizer import SimpleTokenizer\n",
    "from pysummarization.abstractabledoc.top_n_rank_abstractor import TopNRankAbstractor\n",
    "\n",
    "import operator\n",
    "\n",
    "# Increase display options for Pandas dataframes\n",
    "pd.options.display.max_columns = 2000\n",
    "pd.options.display.max_rows = 2000\n",
    "pd.options.display.max_colwidth = 10000\n",
    "pd.options.display.max_seq_items = 2000\n"
   ]
  },
  {
   "cell_type": "code",
   "execution_count": 3,
   "id": "8408a665",
   "metadata": {},
   "outputs": [],
   "source": [
    "# read datasets\n",
    "df_news_true=pd.read_csv('data/DataSet_Misinfo_TRUE.csv',index_col=False)\n",
    "df_news_fake=pd.read_csv('data/DataSet_Misinfo_FAKE.csv')\n",
    "df_news_rpsub=pd.read_csv('data/EXTRA_RussianPropagandaSubset.csv')"
   ]
  },
  {
   "cell_type": "code",
   "execution_count": 7,
   "id": "3020ce8e",
   "metadata": {},
   "outputs": [
    {
     "name": "stderr",
     "output_type": "stream",
     "text": [
      "100%|██████████| 34975/34975 [02:38<00:00, 220.10it/s]\n"
     ]
    },
    {
     "name": "stdout",
     "output_type": "stream",
     "text": [
      "we have 821955 sentences in the Expereince\n",
      "we have 787223 unique sentences in the Expereince\n",
      "The first sentence is:\n",
      "” It has had close to 900, 000 views.\n"
     ]
    }
   ],
   "source": [
    "# Separate each paragraph into sentences using nltk.sent_tokenize\n",
    "df_sentences=pd.DataFrame(columns=['sent'])\n",
    "list_token=[]\n",
    "for para in tqdm(df_news_true.text):\n",
    "    if pd.isna(para)==False:\n",
    "        tokens = nltk.sent_tokenize(para)\n",
    "        list_token=list_token+tokens\n",
    "\n",
    "# print the number of sentences        \n",
    "print(\"we have {} sentences in the Text\".format(len(list_token)))\n",
    "\n",
    "# Print the number of unique sentences       \n",
    "print(\"we have {} unique sentences in the Text\".format(len(set(list_token))))\n",
    "\n",
    "#convert the list of sentences into dataframe \n",
    "df_sentence =pd.DataFrame([set(list_token)]).T\n",
    "\n",
    "# Rename the column\n",
    "df_sentence.columns=['sent']\n",
    "\n",
    "# Print the first sentence\n",
    "print ( \"The first sentence is:\")\n",
    "print(df_sentence.loc[1,'sent'] )"
   ]
  },
  {
   "cell_type": "code",
   "execution_count": 8,
   "id": "d65e214d",
   "metadata": {},
   "outputs": [],
   "source": [
    "# Add columns for each emotion to the df_sentence DataFrame\n",
    "df_sentence['anger']=0\n",
    "df_sentence['anticipation']=0\n",
    "df_sentence['disgust']=0\n",
    "df_sentence['fear']=0\n",
    "df_sentence['joy']=0\n",
    "df_sentence['negative']=0\n",
    "df_sentence['positive']=0\n",
    "df_sentence['sadness']=0\n",
    "df_sentence['surprise']=0\n",
    "df_sentence['trust']=0\n",
    "\n",
    "# Fix contractions like \"I'm\" to \"I am\"\n",
    "df_sentence['sent_cont_fixed']=''\n",
    "for i,row in df_sentence.iterrows():\n",
    "    df_sentence.loc[i,'sent_cont_fixed']=contractions.fix(row.sent)\n",
    "    \n",
    "# Make a copy of the df_sentence DataFrame\n",
    "df_sentence_new=df_sentence.copy()"
   ]
  },
  {
   "cell_type": "code",
   "execution_count": null,
   "id": "0b4a614a",
   "metadata": {},
   "outputs": [],
   "source": [
    "# For each sentence in the df_sentence_new DataFrame, calculate the related emotions using LeXmo\n",
    "for i,row in tqdm_notebook(df_sentence_new.iterrows()):\n",
    "    # Use LeXmo on the fixed version of the sentence to avoid contraction issues\n",
    "    emo=(LeXmo.LeXmo(row.sent_cont_fixed))\n",
    "    # Remove the 'text' key from the dictionary, which contains the original sentence\n",
    "    emo.pop('text', None)\n",
    "    # Fill the values in the DataFrame for each emotion\n",
    "    for key,value in emo.items():\n",
    "        df_sentence_new.loc[i,key]=round(value,3)  "
   ]
  },
  {
   "cell_type": "code",
   "execution_count": 15,
   "id": "00b56c37",
   "metadata": {},
   "outputs": [],
   "source": [
    "#save the database with the emotion for each sentence\n",
    "# df_sentence_new.to_hdf('data/df_news_true_emotions.h5', key='df_news_true_emotions')"
   ]
  },
  {
   "cell_type": "code",
   "execution_count": 109,
   "id": "47ba7531",
   "metadata": {
    "scrolled": true
   },
   "outputs": [],
   "source": [
    "#116,371 Sentences\n",
    "df_sentence_new_=df_sentence_new.iloc[:1000,:]"
   ]
  },
  {
   "cell_type": "code",
   "execution_count": 110,
   "id": "cf786b3b",
   "metadata": {},
   "outputs": [
    {
     "data": {
      "text/html": [
       "<div>\n",
       "<style scoped>\n",
       "    .dataframe tbody tr th:only-of-type {\n",
       "        vertical-align: middle;\n",
       "    }\n",
       "\n",
       "    .dataframe tbody tr th {\n",
       "        vertical-align: top;\n",
       "    }\n",
       "\n",
       "    .dataframe thead th {\n",
       "        text-align: right;\n",
       "    }\n",
       "</style>\n",
       "<table border=\"1\" class=\"dataframe\">\n",
       "  <thead>\n",
       "    <tr style=\"text-align: right;\">\n",
       "      <th></th>\n",
       "      <th>emotion</th>\n",
       "      <th>emotion_freq</th>\n",
       "    </tr>\n",
       "  </thead>\n",
       "  <tbody>\n",
       "    <tr>\n",
       "      <th>6</th>\n",
       "      <td>positive</td>\n",
       "      <td>566</td>\n",
       "    </tr>\n",
       "    <tr>\n",
       "      <th>9</th>\n",
       "      <td>trust</td>\n",
       "      <td>520</td>\n",
       "    </tr>\n",
       "    <tr>\n",
       "      <th>5</th>\n",
       "      <td>negative</td>\n",
       "      <td>452</td>\n",
       "    </tr>\n",
       "    <tr>\n",
       "      <th>1</th>\n",
       "      <td>anticipation</td>\n",
       "      <td>377</td>\n",
       "    </tr>\n",
       "    <tr>\n",
       "      <th>3</th>\n",
       "      <td>fear</td>\n",
       "      <td>294</td>\n",
       "    </tr>\n",
       "    <tr>\n",
       "      <th>0</th>\n",
       "      <td>anger</td>\n",
       "      <td>259</td>\n",
       "    </tr>\n",
       "    <tr>\n",
       "      <th>7</th>\n",
       "      <td>sadness</td>\n",
       "      <td>259</td>\n",
       "    </tr>\n",
       "    <tr>\n",
       "      <th>8</th>\n",
       "      <td>surprise</td>\n",
       "      <td>252</td>\n",
       "    </tr>\n",
       "    <tr>\n",
       "      <th>4</th>\n",
       "      <td>joy</td>\n",
       "      <td>241</td>\n",
       "    </tr>\n",
       "    <tr>\n",
       "      <th>2</th>\n",
       "      <td>disgust</td>\n",
       "      <td>109</td>\n",
       "    </tr>\n",
       "  </tbody>\n",
       "</table>\n",
       "</div>"
      ],
      "text/plain": [
       "        emotion  emotion_freq\n",
       "6      positive           566\n",
       "9         trust           520\n",
       "5      negative           452\n",
       "1  anticipation           377\n",
       "3          fear           294\n",
       "0         anger           259\n",
       "7       sadness           259\n",
       "8      surprise           252\n",
       "4           joy           241\n",
       "2       disgust           109"
      ]
     },
     "execution_count": 110,
     "metadata": {},
     "output_type": "execute_result"
    }
   ],
   "source": [
    "df_freq_by_emotion={}\n",
    "\n",
    "df_freq_by_emotion['anger']=len(df_sentence_new_[df_sentence_new_['anger']>0])\n",
    "df_freq_by_emotion['anticipation']=len(df_sentence_new_[df_sentence_new_['anticipation']>0])\n",
    "df_freq_by_emotion['disgust']=len(df_sentence_new_[df_sentence_new_['disgust']>0])\n",
    "df_freq_by_emotion['fear']=len(df_sentence_new_[df_sentence_new_['fear']>0])\n",
    "df_freq_by_emotion['joy']=len(df_sentence_new_[df_sentence_new_['joy']>0])\n",
    "df_freq_by_emotion['negative']=len(df_sentence_new_[df_sentence_new_['negative']>0])\n",
    "df_freq_by_emotion['positive']=len(df_sentence_new_[df_sentence_new_['positive']>0])\n",
    "df_freq_by_emotion['sadness']=len(df_sentence_new_[df_sentence_new_['sadness']>0])\n",
    "df_freq_by_emotion['surprise']=len(df_sentence_new_[df_sentence_new_['surprise']>0])\n",
    "df_freq_by_emotion['trust']=len(df_sentence_new_[df_sentence_new_['trust']>0])\n",
    "\n",
    "\n",
    "df_freq_by_emotion=pd.DataFrame.from_dict(df_freq_by_emotion,orient='index').reset_index()\n",
    "\n",
    "df_freq_by_emotion.columns=['emotion','emotion_freq']\n",
    "\n",
    "df_freq_by_emotion.sort_values('emotion_freq', ascending=False)"
   ]
  },
  {
   "cell_type": "code",
   "execution_count": 111,
   "id": "83ede782",
   "metadata": {},
   "outputs": [
    {
     "name": "stderr",
     "output_type": "stream",
     "text": [
      "No artists with labels found to put in legend.  Note that artists whose label start with an underscore are ignored when legend() is called with no argument.\n"
     ]
    },
    {
     "data": {
      "text/plain": [
       "[(0.0, 910.0),\n",
       " Text(4.444444444444445, 0.5, ''),\n",
       " Text(0.5, 25.078125, 'Faculties | Continuing students')]"
      ]
     },
     "execution_count": 111,
     "metadata": {},
     "output_type": "execute_result"
    },
    {
     "data": {
      "image/png": "[encoded data removed]",
      "text/plain": [
       "<Figure size 640x480 with 1 Axes>"
      ]
     },
     "metadata": {},
     "output_type": "display_data"
    }
   ],
   "source": [
    "sns.set_theme(style=\"whitegrid\")\n",
    "sns.barplot(data=df_freq_by_emotion, \n",
    "            y=df_freq_by_emotion.emotion,\n",
    "            x=df_freq_by_emotion.emotion_freq,\n",
    "            order=df_freq_by_emotion.sort_values('emotion_freq', ascending=False).emotion,\n",
    "            color='C0'\n",
    "           \n",
    "           \n",
    "           )\n",
    "# # Initialize the matplotlib figure\n",
    "# f, ax = plt.subplots(figsize=(8, 6))\n",
    "\n",
    "ax.legend(ncol=1, loc=\"lower right\", frameon=True, title='March prefered')\n",
    "ax.set(xlim=(0, 910), ylabel=\"\", xlabel=\"Faculties | Continuing students\")\n"
   ]
  },
  {
   "cell_type": "code",
   "execution_count": null,
   "id": "458b0540",
   "metadata": {},
   "outputs": [],
   "source": []
  }
 ],
 "metadata": {
  "kernelspec": {
   "display_name": "Python 3 (ipykernel)",
   "language": "python",
   "name": "python3"
  },
  "language_info": {
   "codemirror_mode": {
    "name": "ipython",
    "version": 3
   },
   "file_extension": ".py",
   "mimetype": "text/x-python",
   "name": "python",
   "nbconvert_exporter": "python",
   "pygments_lexer": "ipython3",
   "version": "3.8.8"
  }
 },
 "nbformat": 4,
 "nbformat_minor": 5
}
